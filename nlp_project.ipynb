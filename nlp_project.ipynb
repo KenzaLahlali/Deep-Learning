{
 "cells": [
  {
   "cell_type": "markdown",
   "metadata": {},
   "source": [
    "# Deep Learning for NLP - Project"
   ]
  },
  {
   "cell_type": "markdown",
   "metadata": {},
   "source": [
    "RULES:\n",
    "\n",
    "* Do not create any additional cell\n",
    "\n",
    "* Fill in the blanks\n",
    "\n",
    "* All cells should be runnable (modulo trivial compatibility bugs that we'd fix)\n",
    "\n",
    "* 4 / 20 points will be allocated to the clarity of your code\n",
    "\n",
    "* Efficient code will have a bonus\n",
    "\n",
    "DELIVERABLE:\n",
    "\n",
    "* this notebook\n",
    "* the predictions of the SST test set\n",
    "\n",
    "DO NOT INCLUDE THE DATASETS IN THE DELIVERABLE.."
   ]
  },
  {
   "cell_type": "code",
   "execution_count": 1,
   "metadata": {},
   "outputs": [],
   "source": [
    "import io\n",
    "import os\n",
    "import numpy as np\n",
    "import warnings\n",
    "warnings.filterwarnings('ignore')\n",
    "import scipy"
   ]
  },
  {
   "cell_type": "code",
   "execution_count": 2,
   "metadata": {},
   "outputs": [],
   "source": [
    "PATH_TO_DATA = r\"./data/\""
   ]
  },
  {
   "cell_type": "markdown",
   "metadata": {},
   "source": [
    "# 1) Monolingual (English) word embeddings "
   ]
  },
  {
   "cell_type": "code",
   "execution_count": 3,
   "metadata": {},
   "outputs": [],
   "source": [
    "class Word2vec():\n",
    "    def __init__(self, fname, nmax=100000):\n",
    "        self.load_wordvec(fname, nmax)\n",
    "        self.word2id = dict.fromkeys(self.word2vec.keys())\n",
    "        self.id2word = {v: k for k, v in self.word2id.items()}\n",
    "        self.embeddings = np.array(self.word2vec.values())\n",
    "    \n",
    "    def load_wordvec(self, fname, nmax):\n",
    "        self.word2vec = {}\n",
    "        with io.open(fname, encoding='utf-8') as f:\n",
    "            next(f)\n",
    "            for i, line in enumerate(f):\n",
    "                word, vec = line.split(' ', 1)\n",
    "                self.word2vec[word] = np.fromstring(vec, sep=' ')\n",
    "                if i == (nmax - 1):\n",
    "                    break\n",
    "        print('Loaded %s pretrained word vectors' % (len(self.word2vec)))\n",
    "        \n",
    "    def most_similar(self, w, K=5):\n",
    "        # K most similar words: self.score  -  np.argsort \n",
    "        scores_w = [self.score(w,w0) for w0 in self.word2vec] #all the scores between w and the other words in word2vec\n",
    "\n",
    "        if not ((min(scores_w)== 0) and (max(scores_w)==0)):\n",
    "            index_best_words = (np.argsort(scores_w)[len(scores_w)-K:len(scores_w)])\n",
    "            list_best_words_desc = [list(self.word2vec.keys())[i] for i in index_best_words]#in the reverse order\n",
    "            return(list_best_words_desc[::-1])\n",
    "        else:\n",
    "            print(str(w)+' not in the initial dictionnary!')\n",
    "            \n",
    "    def score(self, w1, w2):\n",
    "        # cosine similarity: np.dot  -  np.linalg.norm\n",
    "        if (w1 in self.word2vec)and(w2 in self.word2vec):\n",
    "            score_w1 = self.word2vec[w1]\n",
    "            score_w2 = self.word2vec[w2]\n",
    "            return np.dot(score_w1, score_w2.T)/(np.linalg.norm(score_w1)*np.linalg.norm(score_w2))\n",
    "        else:#if both w1 and w2 are not in the word2vec.keys()\n",
    "            return 0\n",
    "\n",
    "   "
   ]
  },
  {
   "cell_type": "code",
   "execution_count": 4,
   "metadata": {},
   "outputs": [
    {
     "name": "stdout",
     "output_type": "stream",
     "text": [
      "Loaded 55000 pretrained word vectors\n",
      "cat dog 0.671683666279249\n",
      "dog pet 0.6842064029669219\n",
      "dogs cats 0.7074389328052403\n",
      "paris france 0.7775108541288561\n",
      "germany berlin 0.7420295235998392\n",
      "['cat', 'cats', 'kitty', 'kitten', 'feline']\n",
      "['dog', 'dogs', 'puppy', 'Dog', 'doggie']\n",
      "['dogs', 'dog', 'Dogs', 'doggies', 'canines']\n",
      "['paris', 'france', 'Paris', 'london', 'berlin']\n",
      "['germany', 'europe', 'german', 'berlin', 'france']\n"
     ]
    }
   ],
   "source": [
    "w2v = Word2vec(os.path.join(PATH_TO_DATA, 'crawl-300d-200k.vec'), nmax=55000)\n",
    "\n",
    "# You will be evaluated on the output of the following:\n",
    "for w1, w2 in zip(('cat', 'dog', 'dogs', 'paris', 'germany'), ('dog', 'pet', 'cats', 'france', 'berlin')):\n",
    "    print(w1, w2, w2v.score(w1, w2))\n",
    "for w1 in ['cat', 'dog', 'dogs', 'paris', 'germany']:\n",
    "    print(w2v.most_similar(w1))"
   ]
  },
  {
   "cell_type": "code",
   "execution_count": 5,
   "metadata": {},
   "outputs": [],
   "source": [
    "class BoV():\n",
    "    def __init__(self, w2v):\n",
    "        self.w2v = w2v\n",
    "        self.idf = None\n",
    "    \n",
    "    def encode(self, sentences, idf=False):\n",
    "        # takes a list of sentences, outputs a numpy array of sentence embeddings\n",
    "        # see TP1 for help\n",
    "        sentemb = []\n",
    "        j = 0\n",
    "        for sent in sentences:\n",
    "            if idf is False:\n",
    "                # mean of word vectors\n",
    "                list_words = [w for w in sent if w in self.w2v.word2vec]\n",
    "                if list_words:\n",
    "                    embeddings = [self.w2v.word2vec[w] for w in list_words]\n",
    "                else:\n",
    "                    embeddings = np.full_like(np.arange(300, dtype=int), np.nan, dtype=np.double)\n",
    "                m = np.nanmean(embeddings, axis=0)\n",
    "            else:\n",
    "                # idf-weighted mean of word vectors\n",
    "                list_words = [w for w in sent if w in self.w2v.word2vec]\n",
    "                if list_words:\n",
    "                    embeddings = [self.idf[w] * self.w2v.word2vec[w] for w in list_words]\n",
    "                else:\n",
    "                    embeddings = np.full_like(np.arange(300, dtype=int), np.nan, dtype=np.double)\n",
    "                m = np.nanmean(embeddings, axis=0)\n",
    "            sentemb.append(m)\n",
    "        return np.vstack(sentemb)\n",
    "\n",
    "\n",
    "    def most_similar(self, s, sentences, idf=False, K=5):\n",
    "        # get most similar sentences and **print** them\n",
    "        \n",
    "#         keys = self.encode(sentences, idf)\n",
    "#         query = self.encode([s], idf)[0]\n",
    "        \n",
    "        scores = [self.score(sent, s, idf) for sent in sentences]\n",
    "        scores_index = np.argsort(scores)[::-1]\n",
    "        \n",
    "        # The most similar sentence is the one with second best score (self-similarity is always 1)\n",
    "        most_similar_sentences_ = [sentences[scores_index[i]] for i in range(1, K + 1)]\n",
    "            \n",
    "        S = ' '.join(s)\n",
    "        print(str(K)+' most similar sentences to '+ str(' '.join(s))+' :')\n",
    "        for sent in most_similar_sentences_:\n",
    "            print(str(' '.join(sent)))\n",
    "        \n",
    "        return most_similar_sentences_\n",
    "\n",
    "\n",
    "    def score(self, s1, s2, idf=False):\n",
    "        # cosine similarity: use   np.dot  and  np.linalg.norm\n",
    "        enc_s1 = self.encode([s1], idf).flatten()\n",
    "        enc_s2 = self.encode([s2], idf).flatten()\n",
    "        \n",
    "        cond = ((np.linalg.norm(enc_s1)!=0) and ((np.linalg.norm(enc_s2)!=0)))\n",
    "        score_ = np.dot(enc_s1, enc_s2.T)/(np.linalg.norm(enc_s1)*np.linalg.norm(enc_s2)) if cond else 0\n",
    "        \n",
    "        return score_\n",
    "    \n",
    "    def build_idf(self, sentences):\n",
    "        # build the idf dictionary: associate each word to its idf value\n",
    "        idf = {}\n",
    "        for sent in sentences:\n",
    "            for w in set(sent):\n",
    "                idf[w] = idf.get(w, 0) + 1 \n",
    "        \n",
    "        for word in idf:\n",
    "            idf[word]= max(1, np.log10(len(sentences) / (idf[word])))\n",
    "            \n",
    "        self.idf = idf\n"
   ]
  },
  {
   "cell_type": "code",
   "execution_count": 6,
   "metadata": {},
   "outputs": [
    {
     "name": "stdout",
     "output_type": "stream",
     "text": [
      "Loaded 50000 pretrained word vectors\n",
      "\n",
      "\n",
      "5 most similar sentences to 1 smiling african american boy . :\n",
      "an african american man smiling .\n",
      "a little african american boy and girl looking up .\n",
      "an african american in sunglasses and a white tee-shirt smiles .\n",
      "an afican american woman standing behind two small african american children .\n",
      "an african american man is sitting .\n",
      "The score between sentence 7 and 13 is 0.5726258859719607\n",
      "\n",
      "\n",
      "5 most similar sentences to 1 smiling african american boy . :\n",
      "an african american man smiling .\n",
      "an african american man is sitting .\n",
      "a little african american boy and girl looking up .\n",
      "an afican american woman standing behind two small african american children .\n",
      "an african american woman braiding another african american woman 's hair , while sitting in a white chair .\n",
      "The score between sentence 7 and 13 is 0.4751450875368781\n"
     ]
    }
   ],
   "source": [
    "w2v = Word2vec(os.path.join(PATH_TO_DATA, 'crawl-300d-200k.vec'), nmax=50000)\n",
    "s2v = BoV(w2v)\n",
    "\n",
    "# Load sentences in \"PATH_TO_DATA/sentences.txt\"\n",
    "with open(os.path.join(PATH_TO_DATA,'sentences.txt')) as f:\n",
    "    sentences = f.readlines()\n",
    "    \n",
    "sentences = [sent.split() for sent in sentences]\n",
    "\n",
    "# Build idf scores for each word\n",
    "s2v.build_idf(sentences)\n",
    "\n",
    "# You will be evaluated on the output of the following:\n",
    "# s2v.most_similar('' if not sentences else sentences[10], sentences)  # BoV-mean\n",
    "# s2v.score('' if not sentences else sentences[7], '' if not sentences else sentences[13])\n",
    "print('\\n')\n",
    "s2v.most_similar(sentences[10], sentences)  # BoV-mean\n",
    "print('The score between sentence 7 and 13 is ' +str(s2v.score(sentences[7],sentences[13])))\n",
    "print('\\n')\n",
    "s2v.most_similar(sentences[10], sentences, True)  # BoV-idf\n",
    "print('The score between sentence 7 and 13 is '+str(s2v.score(sentences[7],sentences[13], True)))\n"
   ]
  },
  {
   "cell_type": "markdown",
   "metadata": {},
   "source": [
    "# 2) Multilingual (English-French) word embeddings"
   ]
  },
  {
   "cell_type": "markdown",
   "metadata": {},
   "source": [
    "Let's consider a bilingual dictionary of size V_a (e.g French-English).\n",
    "\n",
    "Let's define **X** and **Y** the **French** and **English** matrices.\n",
    "\n",
    "They contain the embeddings associated to the words in the bilingual dictionary.\n",
    "\n",
    "We want to find a **mapping W** that will project the source word space (e.g French) to the target word space (e.g English).\n",
    "\n",
    "Procrustes : **W\\* = argmin || W.X - Y ||  s.t  W^T.W = Id**\n",
    "has a closed form solution:\n",
    "**W = U.V^T  where  U.Sig.V^T = SVD(Y.X^T)**\n",
    "\n",
    "In what follows, you are asked to: "
   ]
  },
  {
   "cell_type": "code",
   "execution_count": 7,
   "metadata": {},
   "outputs": [
    {
     "name": "stdout",
     "output_type": "stream",
     "text": [
      "Loaded 50000 pretrained word vectors\n",
      "Loaded 50000 pretrained word vectors\n"
     ]
    }
   ],
   "source": [
    "# 1 - Download and load 50k first vectors of\n",
    "#     https://s3-us-west-1.amazonaws.com/fasttext-vectors/wiki.en.vec\n",
    "#     https://s3-us-west-1.amazonaws.com/fasttext-vectors/wiki.fr.vec\n",
    "\n",
    "fr_txt = Word2vec(os.path.join(PATH_TO_DATA, 'wiki.fr.vec'), nmax=50000)\n",
    "eng_txt = Word2vec(os.path.join(PATH_TO_DATA, 'wiki.en.vec'), nmax=50000)"
   ]
  },
  {
   "cell_type": "code",
   "execution_count": 8,
   "metadata": {},
   "outputs": [],
   "source": [
    "# 2 - Get words that appear in both vocabs (= identical character strings)\n",
    "#     Use it to create the matrix X and Y (of aligned embeddings for these words)\n",
    "\n",
    "words_fr_txt = set(fr_txt.word2vec.keys())\n",
    "words_eng_txt = set(eng_txt.word2vec.keys())\n",
    "    \n",
    "identical_words = words_fr_txt & words_eng_txt #bilingual words\n",
    "    \n",
    "X = np.vstack([fr_txt.word2vec[w] for w in identical_words])\n",
    "Y = np.vstack([eng_txt.word2vec[w] for w in identical_words])"
   ]
  },
  {
   "cell_type": "code",
   "execution_count": 9,
   "metadata": {},
   "outputs": [],
   "source": [
    "# 3 - Solve the Procrustes using the scipy package and: scipy.linalg.svd() and get the optimal W\n",
    "#     Now W*French_vector is in the same space as English_vector\n",
    "\n",
    "import scipy.linalg\n",
    "    \n",
    "U, s, V = scipy.linalg.svd(np.dot(Y.T, X)) #Singular Value Decomposition\n",
    "    \n",
    "W = np.dot(U, V)"
   ]
  },
  {
   "cell_type": "code",
   "execution_count": 25,
   "metadata": {},
   "outputs": [
    {
     "name": "stdout",
     "output_type": "stream",
     "text": [
      "---from French to English---\n",
      "5 best translations of ordinateur are: computers computer mainframe workstation programmable\n",
      "5 best translations of heure are: minutes hours hour hrs mins\n",
      "5 best translations of aimer are: love nous regrets affection affections\n",
      "\n",
      "\n",
      "---from English to French---\n",
      "5 best translations of computer are: computer informatique ordinateurs ordinateur computing\n",
      "5 best translations of apple are: apple microsoft macintosh iphone intel\n",
      "5 best translations of president are: président présidence présidents president coprésident\n"
     ]
    }
   ],
   "source": [
    "class Translation():\n",
    "    def __init__(self, w2v_lang1, w2v_lang2, nmax=100000):\n",
    "\n",
    "        self.w2v_lang1 = w2v_lang1.word2vec\n",
    "        self.w2v_lang2 = w2v_lang2.word2vec\n",
    "\n",
    "        self.word2id_lang1 = dict.fromkeys(self.w2v_lang1.keys())\n",
    "        self.word2id_lang2 = dict.fromkeys(self.w2v_lang2.keys())\n",
    "        \n",
    "        self.id2word_lang1 = {v: k for k, v in self.word2id_lang1.items()}\n",
    "        self.id2word_lang2 = {v: k for k, v in self.word2id_lang2.items()}\n",
    "        \n",
    "        self.W = W\n",
    "        \n",
    "    def Translate(self, w, K=5, language='French'):\n",
    "\n",
    "        if language=='French':\n",
    "            W1 = self.W\n",
    "            id2word = self.id2word_lang2\n",
    "            w2v = self.w2v_lang1\n",
    "            w2v_foreign = self.w2v_lang2\n",
    "            \n",
    "        elif language=='English':\n",
    "            W1 = np.linalg.inv(self.W)\n",
    "            id2word = self.id2word_lang1\n",
    "            w2v = self.w2v_lang2\n",
    "            w2v_foreign = self.w2v_lang1\n",
    "        \n",
    "        scores = [self.score(np.dot(W1,w2v[w]), w2) for w2 in w2v_foreign.values()]\n",
    "        index_best_words = (np.argsort(scores)[len(scores)-K:len(scores)])\n",
    "        list_best_words_desc = [list(w2v_foreign.keys())[i] for i in index_best_words]#in the reverse order\n",
    "        return(list_best_words_desc[::-1])\n",
    "\n",
    "    def score(self, w1, w2):\n",
    "        if (np.linalg.norm(w1)*np.linalg.norm(w2))!=0:\n",
    "            return w1.dot(w2)/(np.linalg.norm(w1)*np.linalg.norm(w2))\n",
    "        else:\n",
    "            return 0\n",
    "\n",
    "\n",
    "trad = Translation(fr_txt, eng_txt)\n",
    "\n",
    "print('---from French to English---')\n",
    "fr_words = [\"ordinateur\", \"heure\", \"aimer\"]\n",
    "for w in fr_words:\n",
    "    t = trad.Translate(w, language='French')\n",
    "    print(\"5 best translations of {} are: {}\".format(w, \" \".join(t)))\n",
    "print('\\n')\n",
    "print('---from English to French---')\n",
    "en_words = [\"computer\", \"apple\", \"president\"]\n",
    "for w in en_words:\n",
    "    t = trad.Translate(w, language='English')\n",
    "    print(\"5 best translations of {} are: {}\".format(w, \" \".join(t)))"
   ]
  },
  {
   "cell_type": "markdown",
   "metadata": {},
   "source": [
    "If you want to dive deeper on this subject: https://github.com/facebookresearch/MUSE"
   ]
  },
  {
   "cell_type": "markdown",
   "metadata": {},
   "source": [
    "# 3) Sentence classification with BoV and scikit-learn"
   ]
  },
  {
   "cell_type": "code",
   "execution_count": 11,
   "metadata": {},
   "outputs": [],
   "source": [
    "# 1 - Load train/dev/test of Stanford Sentiment TreeBank (SST)\n",
    "#     (https://nlp.stanford.edu/~socherr/EMNLP2013_RNTN.pdf)\n",
    "\n",
    "train_file = open(os.path.join(PATH_TO_DATA, 'SST/stsa.fine.train'))\n",
    "dev_file = open(os.path.join(PATH_TO_DATA, 'SST/stsa.fine.dev'))\n",
    "test_file = open(os.path.join(PATH_TO_DATA, 'SST/stsa.fine.test.X'))\n",
    "    \n",
    "def load_file(file, is_test = False):\n",
    "    A = []\n",
    "    categorical = []                \n",
    "    if not is_test:\n",
    "        for l in file:\n",
    "            A.append(l.split()[1:])\n",
    "            categorical.append(l.split()[0])\n",
    "        categorical = [int(categorical[i]) for i in range(len(categorical))]\n",
    "        return A, categorical\n",
    "    else:\n",
    "        for l in file:\n",
    "            A.append(l.split())\n",
    "        return A\n",
    "\n",
    "X_train, Y_train = load_file(train_file)\n",
    "X_dev, Y_dev = load_file(dev_file)\n",
    "X_test = load_file(test_file, is_test = True)"
   ]
  },
  {
   "cell_type": "code",
   "execution_count": 12,
   "metadata": {},
   "outputs": [
    {
     "name": "stdout",
     "output_type": "stream",
     "text": [
      "Loaded 55000 pretrained word vectors\n"
     ]
    }
   ],
   "source": [
    "# 2 - Encode sentences with the BoV model above\n",
    "\n",
    "w2v = Word2vec(os.path.join(PATH_TO_DATA, 'crawl-300d-200k.vec'), nmax=55000)\n",
    "s2v = BoV(w2v)\n",
    "\n",
    "s2v.build_idf(X_train+X_dev+X_test)\n",
    "\n",
    "#without idf\n",
    "Xtrain_encode = s2v.encode(X_train)\n",
    "Xdev_encode = s2v.encode(X_dev)\n",
    "Xtest_encode = s2v.encode(X_test)\n",
    "\n",
    "#with idf\n",
    "Xtrain_encode_idf = s2v.encode(X_train, idf=True)\n",
    "Xdev_encode_idf = s2v.encode(X_dev, idf=True)\n",
    "Xtest_encode_idf = s2v.encode(X_test, idf=True)"
   ]
  },
  {
   "cell_type": "code",
   "execution_count": 13,
   "metadata": {},
   "outputs": [
    {
     "data": {
      "text/plain": [
       "<Figure size 640x480 with 1 Axes>"
      ]
     },
     "metadata": {},
     "output_type": "display_data"
    },
    {
     "name": "stdout",
     "output_type": "stream",
     "text": [
      "-------Without idf--------\n",
      "accuracy score for train is  0.46769662921348315\n",
      "accuracy score for dev is 0.4250681198910082\n",
      "-------With idf--------\n",
      "accuracy score for train is  0.4621956928838951\n",
      "accuracy score for dev is 0.4268846503178928\n"
     ]
    }
   ],
   "source": [
    "# 3 - Learn Logistic Regression on top of sentence embeddings using scikit-learn\n",
    "#     (consider tuning the L2 regularization on the dev set)\n",
    "\n",
    "from sklearn.linear_model import LogisticRegression\n",
    "from sklearn.metrics import accuracy_score\n",
    "from sklearn.model_selection import GridSearchCV\n",
    "\n",
    "acc_list_train = []\n",
    "acc_list_dev =[]\n",
    "for C in np.linspace(0.01,0.3, 20):\n",
    "    logistic_model = LogisticRegression(C=C,max_iter=1000)#By default it's penality l2\n",
    "    logistic_model.fit(Xtrain_encode,Y_train)\n",
    "\n",
    "    pred_train = logistic_model.predict( Xtrain_encode)\n",
    "    pred_dev = logistic_model.predict(Xdev_encode)\n",
    "    \n",
    "    acc_list_train.append(accuracy_score(Y_train,pred_train))\n",
    "    acc_list_dev.append(accuracy_score(Y_dev,pred_dev))\n",
    "    \n",
    "import matplotlib.pyplot as plt\n",
    "plt.plot(np.linspace(0.01,0.3, 20), acc_list_train, label = 'Train')\n",
    "plt.plot(np.linspace(0.01,0.3, 20), acc_list_dev, label = 'Test')\n",
    "plt.xlabel('C')\n",
    "plt.ylabel('accuracy score')\n",
    "plt.title('accuracy score with C')\n",
    "plt.legend()\n",
    "plt.show()\n",
    "\n",
    "logistic_model = LogisticRegression(C=0.3,max_iter=1000)#By default it's penality l2\n",
    "logistic_model.fit(Xtrain_encode,Y_train)\n",
    "\n",
    "pred_train = logistic_model.predict( Xtrain_encode)\n",
    "pred_dev = logistic_model.predict(Xdev_encode)\n",
    "\n",
    "print('-------Without idf--------')\n",
    "print('accuracy score for train is ', accuracy_score(Y_train,pred_train))\n",
    "print('accuracy score for dev is', accuracy_score(Y_dev,pred_dev))\n",
    "\n",
    "\n",
    "logistic_model_idf = LogisticRegression(C=0.04,max_iter=1000)#By default it's penality l2\n",
    "logistic_model_idf.fit(Xtrain_encode_idf,Y_train)\n",
    "\n",
    "pred_train_idf = logistic_model_idf.predict(Xtrain_encode_idf)\n",
    "pred_dev_idf = logistic_model_idf.predict(Xdev_encode_idf)\n",
    "\n",
    "print('-------With idf--------')\n",
    "print('accuracy score for train is ', accuracy_score(Y_train,pred_train_idf))\n",
    "print('accuracy score for dev is', accuracy_score(Y_dev,pred_dev_idf))"
   ]
  },
  {
   "cell_type": "code",
   "execution_count": 14,
   "metadata": {},
   "outputs": [],
   "source": [
    "# 4 - Produce 2210 predictions for the test set (in the same order). One line = one prediction (=0,1,2,3,4).\n",
    "#     Attach the output file \"logreg_bov_y_test_sst.txt\" to your deliverable.\n",
    "#     You will be evaluated on the results of the test set.\n",
    "\n",
    "\n",
    "lines = '\\n'.join([str(c) for c in logistic_model.predict(Xtest_encode)])\n",
    "with open(os.path.join('.',r'logreg_bov_y_test_sst.txt'),'w') as f:\n",
    "    f.writelines(lines)\n"
   ]
  },
  {
   "cell_type": "code",
   "execution_count": 15,
   "metadata": {},
   "outputs": [
    {
     "name": "stdout",
     "output_type": "stream",
     "text": [
      "accuracy score with XGBoost is 0.40054495912806537\n",
      "accuracy score with LDA is 0.4332425068119891\n"
     ]
    }
   ],
   "source": [
    "# BONUS!\n",
    "# 5 - Try to improve performance with another classifier\n",
    "#     Attach the output file \"XXX_bov_y_test_sst.txt\" to your deliverable (where XXX = the name of the classifier)\n",
    "from xgboost import XGBClassifier\n",
    "    \n",
    "xgb = XGBClassifier() \n",
    "xgb.fit(Xtrain_encode, Y_train,eval_set=[(Xdev_encode, Y_dev)], early_stopping_rounds=20, verbose = False)\n",
    "pred = xgb.predict(Xdev_encode)\n",
    "print('accuracy score with XGBoost is '+str(accuracy_score(Y_dev, pred)))\n",
    "\n",
    "from sklearn.discriminant_analysis import LinearDiscriminantAnalysis as LDA\n",
    "lda = LDA(n_components=3)\n",
    "X_lda = lda.fit(Xtrain_encode, Y_train)\n",
    "pred = X_lda.predict(Xdev_encode)\n",
    "print('accuracy score with LDA is '+str(accuracy_score(Y_dev, pred)))\n",
    "\n",
    "lines = '\\n'.join([str(c) for c in X_lda.predict(Xtest_encode)])\n",
    "with open(os.path.join('.',r'lda_bov_y_test_sst.txt'),'w') as f:\n",
    "    f.writelines(lines)\n",
    "    \n",
    "#Linear model perform better than non linear models"
   ]
  },
  {
   "cell_type": "markdown",
   "metadata": {},
   "source": [
    "# 4) Sentence classification with LSTMs in Keras"
   ]
  },
  {
   "cell_type": "markdown",
   "metadata": {},
   "source": [
    "## 4.1 - Preprocessing"
   ]
  },
  {
   "cell_type": "code",
   "execution_count": 16,
   "metadata": {},
   "outputs": [
    {
     "name": "stderr",
     "output_type": "stream",
     "text": [
      "Using TensorFlow backend.\n"
     ]
    }
   ],
   "source": [
    "import keras"
   ]
  },
  {
   "cell_type": "code",
   "execution_count": 17,
   "metadata": {},
   "outputs": [],
   "source": [
    "# 1 - Load train/dev/test sets of SST\n",
    "PATH_TO_DATA = \"./data/\"\n",
    "train_file = open(os.path.join(PATH_TO_DATA, 'SST/stsa.fine.train'))\n",
    "dev_file = open(os.path.join(PATH_TO_DATA, 'SST/stsa.fine.dev'))\n",
    "test_file = open(os.path.join(PATH_TO_DATA, 'SST/stsa.fine.test.X'))\n",
    "\n",
    "X_train, Y_train = load_file(train_file)\n",
    "X_dev, Y_dev = load_file(dev_file)\n",
    "X_test = load_file(test_file, is_test = True)\n"
   ]
  },
  {
   "cell_type": "code",
   "execution_count": 18,
   "metadata": {},
   "outputs": [],
   "source": [
    "# 2 - Transform text to integers using keras.preprocessing.text.one_hot function\n",
    "#     https://keras.io/preprocessing/text/\n",
    "\n",
    "from keras.preprocessing import text\n",
    "from keras.utils import to_categorical\n",
    "\n",
    "w1 = set([s for sent in (X_train+X_dev+X_test) for s in sent ])\n",
    "vocab_size = len(w1)\n",
    "\n",
    "X_train_one_hot = [text.one_hot(' '.join(x),vocab_size) for x in X_train]\n",
    "X_dev_one_hot = [text.one_hot(' '.join(x),vocab_size) for x in X_dev]\n",
    "X_test_one_hot = [text.one_hot(' '.join(x),vocab_size) for x in X_test]\n"
   ]
  },
  {
   "cell_type": "markdown",
   "metadata": {},
   "source": [
    "**Padding input data**\n",
    "\n",
    "Models in Keras (and elsewhere) take batches of sentences of the same length as input. It is because Deep Learning framework have been designed to handle well Tensors, which are particularly suited for fast computation on the GPU.\n",
    "\n",
    "Since sentences have different sizes, we \"pad\" them. That is, we add dummy \"padding\" tokens so that they all have the same length.\n",
    "\n",
    "The input to a Keras model thus has this size : (batchsize, maxseqlen) where maxseqlen is the maximum length of a sentence in the batch."
   ]
  },
  {
   "cell_type": "code",
   "execution_count": 19,
   "metadata": {},
   "outputs": [],
   "source": [
    "# 3 - Pad your sequences using keras.preprocessing.sequence.pad_sequences\n",
    "#     https://keras.io/preprocessing/sequence/\n",
    "\n",
    "# TYPE CODE HERE\n",
    "from keras.preprocessing.sequence import pad_sequences\n",
    "\n",
    "\n",
    "X_train_pad = pad_sequences(X_train_one_hot, maxlen= 40)\n",
    "X_dev_pad = pad_sequences(X_dev_one_hot, maxlen= 40)\n",
    "X_test_pad = pad_sequences(X_test_one_hot, maxlen= 40)"
   ]
  },
  {
   "cell_type": "markdown",
   "metadata": {},
   "source": [
    "## 4.2 - Design and train your model"
   ]
  },
  {
   "cell_type": "code",
   "execution_count": 20,
   "metadata": {},
   "outputs": [],
   "source": [
    "# 4 - Design your encoder + classifier using keras.layers\n",
    "#     In Keras, Torch and other deep learning framework, we create a \"container\" which is the Sequential() module.\n",
    "#     Then we add components to this contained : the lookuptable, the LSTM, the classifier etc.\n",
    "#     All of these components are contained in the Sequential() and are trained together.\n",
    "\n",
    "\n",
    "# ADAPT CODE BELOW\n",
    "\n",
    "\n",
    "\n",
    "from keras.models import Sequential\n",
    "from keras.layers import Embedding, LSTM, Dense, Activation, SpatialDropout1D\n",
    "\n",
    "embed_dim  = 32  # word embedding dimension\n",
    "nhid       = 64  # number of hidden units in the LSTM\n",
    "vocab_size = vocab_size  # size of the vocabulary\n",
    "n_classes  = 5\n",
    "\n",
    "model = Sequential()\n",
    "model.add(Embedding(vocab_size, embed_dim))\n",
    "model.add(SpatialDropout1D(0.7))\n",
    "model.add(LSTM(nhid, dropout=0.7, recurrent_dropout=0.7))\n",
    "model.add(Dense(n_classes, activation='softmax'))\n"
   ]
  },
  {
   "cell_type": "code",
   "execution_count": 21,
   "metadata": {},
   "outputs": [
    {
     "name": "stdout",
     "output_type": "stream",
     "text": [
      "_________________________________________________________________\n",
      "Layer (type)                 Output Shape              Param #   \n",
      "=================================================================\n",
      "embedding_1 (Embedding)      (None, None, 32)          625216    \n",
      "_________________________________________________________________\n",
      "spatial_dropout1d_1 (Spatial (None, None, 32)          0         \n",
      "_________________________________________________________________\n",
      "lstm_1 (LSTM)                (None, 64)                24832     \n",
      "_________________________________________________________________\n",
      "dense_1 (Dense)              (None, 5)                 325       \n",
      "=================================================================\n",
      "Total params: 650,373\n",
      "Trainable params: 650,373\n",
      "Non-trainable params: 0\n",
      "_________________________________________________________________\n",
      "None\n"
     ]
    }
   ],
   "source": [
    "# 5 - Define your loss/optimizer/metrics\n",
    "\n",
    "# MODIFY CODE BELOW\n",
    "loss_classif     =  'categorical_crossentropy' # find the right loss for multi-class classification\n",
    "optimizer        =  'nadam' # find the right optimizer\n",
    "metrics_classif  =  ['accuracy']\n",
    "\n",
    "# Observe how easy (but blackboxed) this is in Keras\n",
    "model.compile(loss=loss_classif,\n",
    "              optimizer=optimizer,\n",
    "              metrics=metrics_classif)\n",
    "print(model.summary())"
   ]
  },
  {
   "cell_type": "code",
   "execution_count": 22,
   "metadata": {},
   "outputs": [
    {
     "name": "stdout",
     "output_type": "stream",
     "text": [
      "Train on 8544 samples, validate on 1101 samples\n",
      "Epoch 1/6\n",
      "8544/8544 [==============================] - 11s 1ms/step - loss: 1.5773 - acc: 0.2621 - val_loss: 1.5708 - val_acc: 0.2534\n",
      "Epoch 2/6\n",
      "8544/8544 [==============================] - 9s 1ms/step - loss: 1.5646 - acc: 0.2864 - val_loss: 1.5620 - val_acc: 0.3079\n",
      "Epoch 3/6\n",
      "8544/8544 [==============================] - 10s 1ms/step - loss: 1.5361 - acc: 0.3143 - val_loss: 1.5166 - val_acc: 0.3433\n",
      "Epoch 4/6\n",
      "8544/8544 [==============================] - 10s 1ms/step - loss: 1.4882 - acc: 0.3490 - val_loss: 1.4814 - val_acc: 0.3569\n",
      "Epoch 5/6\n",
      "8544/8544 [==============================] - 10s 1ms/step - loss: 1.4454 - acc: 0.3711 - val_loss: 1.4581 - val_acc: 0.3542\n",
      "Epoch 6/6\n",
      "8544/8544 [==============================] - 10s 1ms/step - loss: 1.3956 - acc: 0.3960 - val_loss: 1.4465 - val_acc: 0.3515\n",
      "---Plot---\n"
     ]
    },
    {
     "data": {
      "image/png": "[encoded data removed]",
      "text/plain": [
       "<Figure size 432x288 with 2 Axes>"
      ]
     },
     "metadata": {
      "needs_background": "light"
     },
     "output_type": "display_data"
    }
   ],
   "source": [
    "# 6 - Train your model and find the best hyperparameters for your dev set\n",
    "#     you will be evaluated on the quality of your predictions on the test set\n",
    "\n",
    "# ADAPT CODE BELOW\n",
    "import matplotlib.pyplot as plt\n",
    "from IPython.display import clear_output\n",
    "\n",
    "bs = 64\n",
    "n_epochs = 6\n",
    "\n",
    "Y_train_categorical = to_categorical(Y_train)\n",
    "Y_dev_categorical = to_categorical(Y_dev)\n",
    "history = model.fit(X_train_pad, Y_train_categorical, batch_size=bs, nb_epoch=n_epochs, validation_data=(X_dev_pad, Y_dev_categorical), verbose =True)\n",
    "print('---Plot---')\n",
    "fig, (ax1, ax2) = plt.subplots(1,2)\n",
    "\n",
    "ax1.plot(history.history[\"loss\"], label=\"Train loss\")\n",
    "ax1.plot(history.history[\"val_loss\"], label=\"Val loss\")\n",
    "ax1.set_title(\"Loss\")\n",
    "ax1.set_xlabel(\"Epochs\")\n",
    "ax1.set_ylabel(\"Loss\")\n",
    "ax1.legend()\n",
    "\n",
    "ax2.plot(history.history[\"acc\"], label=\"Train accuracy\")\n",
    "ax2.plot(history.history[\"val_acc\"], label=\"Val accuracy\")\n",
    "ax2.set_title(\"Accuracy\")\n",
    "ax2.set_xlabel(\"Epochs\")\n",
    "ax2.set_ylabel(\"Accuracy\")\n",
    "ax2.legend()\n",
    "\n",
    "plt.tight_layout()\n",
    "plt.show()"
   ]
  },
  {
   "cell_type": "code",
   "execution_count": 23,
   "metadata": {},
   "outputs": [],
   "source": [
    "# 7 - Generate your predictions on the test set using model.predict(x_test)\n",
    "#     https://keras.io/models/model/\n",
    "#     Log your predictions in a file (one line = one integer: 0,1,2,3,4)\n",
    "#     Attach the output file \"logreg_lstm_y_test_sst.txt\" to your deliverable.\n",
    "\n",
    "# TYPE CODE HERE\n",
    "pred_test_one = model.predict(X_test_pad)\n",
    "pred_test = [np.argmax(pred) for pred in pred_test_one]\n",
    "lines = '\\n'.join([str(c) for c in pred_test])\n",
    "with open(os.path.join('.',r'logreg_lstm_y_test_sst.txt'),'w') as f:\n",
    "    f.writelines(lines)"
   ]
  },
  {
   "cell_type": "markdown",
   "metadata": {},
   "source": [
    "## 4.3 -- innovate !"
   ]
  },
  {
   "cell_type": "code",
   "execution_count": 24,
   "metadata": {},
   "outputs": [
    {
     "name": "stdout",
     "output_type": "stream",
     "text": [
      "---filtering---\n",
      "Check 1: size of intersect of words in Train, Test and Dev is 17839\n",
      "---Creating Embedding Matrix---\n",
      "Check 2: Embedding Matrix size (17839, 300)\n",
      "---Train----\n",
      "Train on 8544 samples, validate on 1101 samples\n",
      "Epoch 1/6\n",
      "8544/8544 [==============================] - 25s 3ms/step - loss: 1.5299 - acc: 0.3082 - val_loss: 1.3993 - val_acc: 0.3806\n",
      "Epoch 2/6\n",
      "8544/8544 [==============================] - 21s 2ms/step - loss: 1.3836 - acc: 0.3910 - val_loss: 1.3274 - val_acc: 0.4114\n",
      "Epoch 3/6\n",
      "8544/8544 [==============================] - 21s 2ms/step - loss: 1.3432 - acc: 0.4129 - val_loss: 1.3131 - val_acc: 0.4205\n",
      "Epoch 4/6\n",
      "8544/8544 [==============================] - 20s 2ms/step - loss: 1.3137 - acc: 0.4260 - val_loss: 1.2746 - val_acc: 0.4151\n",
      "Epoch 5/6\n",
      "8544/8544 [==============================] - 20s 2ms/step - loss: 1.2909 - acc: 0.4397 - val_loss: 1.2671 - val_acc: 0.4233\n",
      "Epoch 6/6\n",
      "8544/8544 [==============================] - 22s 3ms/step - loss: 1.2736 - acc: 0.4496 - val_loss: 1.2666 - val_acc: 0.4387\n",
      "---Predict---\n",
      "---Saving The File---\n",
      "---End---\n"
     ]
    }
   ],
   "source": [
    "# 8 - Open question: find a model that is better on your dev set\n",
    "#     (e.g: use a 1D ConvNet, use a better classifier, pretrain your lookup tables ..)\n",
    "#     you will get point if the results on the test set are better: be careful of not overfitting your dev set too much..\n",
    "#     Attach the output file \"XXX_XXX_y_test_sst.txt\" to your deliverable.\n",
    "\n",
    "# TYPE CODE HERE\n",
    "from keras.layers import Bidirectional\n",
    "from keras.preprocessing.text import Tokenizer\n",
    "from keras.preprocessing.sequence import pad_sequences\n",
    "from keras.utils import to_categorical\n",
    "\n",
    "train_file = open(os.path.join(PATH_TO_DATA, 'SST/stsa.fine.train'))\n",
    "dev_file = open(os.path.join(PATH_TO_DATA, 'SST/stsa.fine.dev'))\n",
    "test_file = open(os.path.join(PATH_TO_DATA, 'SST/stsa.fine.test.X'))\n",
    "\n",
    "\n",
    "def load_wordvec(fname, nmax):\n",
    "    word2vec = {}\n",
    "    with io.open(fname, encoding='utf-8') as f:\n",
    "        next(f)\n",
    "        for i, line in enumerate(f):\n",
    "            word, vec = line.split(' ', 1)\n",
    "            word2vec[word] = np.fromstring(vec, sep=' ')\n",
    "            if i == (nmax - 1):\n",
    "                break\n",
    "    return word2vec\n",
    "\n",
    "w2v = load_wordvec(os.path.join(PATH_TO_DATA, 'crawl-300d-200k.vec'), nmax=200000)\n",
    "\n",
    "def load_file(file, is_test = False):\n",
    "    A = []\n",
    "    categorical = []                \n",
    "    if not is_test:\n",
    "        for l in file:\n",
    "            A.append(l[1:])\n",
    "            categorical.append(l.split()[0])\n",
    "        categorical = [int(categorical[i]) for i in range(len(categorical))]\n",
    "        return A, categorical\n",
    "    else:\n",
    "        for l in file:\n",
    "            A.append(l)\n",
    "        return A\n",
    "\n",
    "X_train, Y_train = load_file(train_file)\n",
    "X_dev, Y_dev = load_file(dev_file)\n",
    "X_test = load_file(test_file, is_test = True)\n",
    "    \n",
    "#Pretrain of lookup tables and filtering the data\n",
    "print('---filtering---')\n",
    "X_train_token = [text.text_to_word_sequence(x) for x in X_train]\n",
    "X_dev_token = [text.text_to_word_sequence(x) for x in X_dev]\n",
    "X_test_token = [text.text_to_word_sequence(x) for x in X_test]\n",
    "\n",
    "interec = set()\n",
    "for x in X_train_token:\n",
    "    for y in x:\n",
    "        interec.add(y)\n",
    "for x in X_dev_token:\n",
    "    for y in x:\n",
    "        interec.add(y)\n",
    "for x in X_test_token:\n",
    "    for y in x:\n",
    "        interec.add(y)        \n",
    "\n",
    "print('Check 1: size of intersect of words in Train, Test and Dev is '+str(len(list(interec))))\n",
    "\n",
    "#For each word map it to a number in a dictionnary\n",
    "dict_={}\n",
    "count=0\n",
    "for x in list(interec):\n",
    "    dict_[count] = str(x)\n",
    "    count += 1\n",
    "            \n",
    "\n",
    "#Mapping the words of the dataFrames to the id of the dictionnary\n",
    "dict_inv = {v: k for k, v in dict_.items()}\n",
    "def Mapping(sent):\n",
    "    X = []\n",
    "    for s in sent:\n",
    "        mapp = []\n",
    "        for x in s:\n",
    "            mapp.append(dict_inv.get(x))\n",
    "        X.append(mapp)\n",
    "    return X\n",
    "\n",
    "X_train_pad = pad_sequences(Mapping(X_train_token), maxlen = 60)\n",
    "X_dev_pad = pad_sequences(Mapping(X_dev_token), maxlen = 60)\n",
    "X_test_pad = pad_sequences(Mapping(X_test_token), maxlen= 60)\n",
    "\n",
    "print('---Creating Embedding Matrix---')\n",
    "#Mapping between the id of dictionnary and the embedding\n",
    "Embedding_Matrix=[]\n",
    "for i in range(count):\n",
    "    Embedding_Matrix.append(w2v.get(dict_[i], np.zeros(300)))\n",
    "Embedding_Matrix = np.array(Embedding_Matrix)\n",
    "print('Check 2: Embedding Matrix size', Embedding_Matrix.shape)\n",
    "\n",
    "print('---Train----')\n",
    "model = Sequential()\n",
    "model.add(Embedding(Embedding_Matrix.shape[0], 300, trainable = False, weights = [Embedding_Matrix]))\n",
    "model.add(Bidirectional(LSTM(32, dropout_W=0.4, recurrent_dropout=0.4))) #bidirectional layer\n",
    "model.add(Dense(n_classes, activation='softmax'))\n",
    "\n",
    "loss_classif     =  'categorical_crossentropy' # find the right loss for multi-class classification\n",
    "optimizer        =  'adam' # find the right optimizer\n",
    "metrics_classif  =  ['accuracy']\n",
    "\n",
    "model.compile(loss=loss_classif,\n",
    "              optimizer=optimizer,\n",
    "              metrics=metrics_classif)\n",
    "\n",
    "\n",
    "bs = 64\n",
    "n_epochs = 6\n",
    "\n",
    "history = model.fit(X_train_pad, to_categorical(Y_train), \n",
    "                    batch_size=bs,\n",
    "                    epochs=n_epochs, \n",
    "                    validation_data=(X_dev_pad, to_categorical(Y_dev)), verbose=True)\n",
    "\n",
    "print('---Predict---')\n",
    "pred_test_one = model.predict(X_test_pad)\n",
    "pred_test = [np.argmax(pred) for pred in pred_test_one]\n",
    "print('---Saving The File---')\n",
    "lines = '\\n'.join([str(c) for c in pred_test])\n",
    "with open(os.path.join('.',r'bilstm_dense_y_test_sst.txt'),'w') as f:\n",
    "    f.writelines(lines)\n",
    "print('---End---')"
   ]
  },
  {
   "cell_type": "code",
   "execution_count": null,
   "metadata": {},
   "outputs": [],
   "source": []
  }
 ],
 "metadata": {
  "celltoolbar": "Aucun(e)",
  "kernelspec": {
   "display_name": "Python 3",
   "language": "python",
   "name": "python3"
  },
  "language_info": {
   "codemirror_mode": {
    "name": "ipython",
    "version": 3
   },
   "file_extension": ".py",
   "mimetype": "text/x-python",
   "name": "python",
   "nbconvert_exporter": "python",
   "pygments_lexer": "ipython3",
   "version": "3.6.7"
  }
 },
 "nbformat": 4,
 "nbformat_minor": 1
}
