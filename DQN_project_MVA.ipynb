{
  "nbformat": 4,
  "nbformat_minor": 0,
  "metadata": {
    "colab": {
      "name": "DQN_project_MVA.ipynb",
      "version": "0.3.2",
      "provenance": [],
      "collapsed_sections": []
    },
    "kernelspec": {
      "display_name": "Python 3",
      "language": "python",
      "name": "python3"
    }
  },
  "cells": [
    {
      "metadata": {
        "id": "ySRnnzi5QZsh",
        "colab_type": "text"
      },
      "cell_type": "markdown",
      "source": [
        "**You may need to install [OpenCV](https://pypi.python.org/pypi/opencv-python) and [scikit-video](http://www.scikit-video.org/stable/).**"
      ]
    },
    {
      "metadata": {
        "id": "dFySY_psQZsk",
        "colab_type": "code",
        "outputId": "1e2f43d9-9173-4560-d0f2-36446382a336",
        "colab": {
          "base_uri": "https://localhost:8080/",
          "height": 230
        }
      },
      "cell_type": "code",
      "source": [
        "import keras\n",
        "import numpy as np\n",
        "import io\n",
        "import base64\n",
        "from IPython.display import HTML\n",
        "# !pip install scikit-video\n",
        "import skvideo.io\n",
        "# !pip install opencv-python\n",
        "import cv2\n",
        "import json\n",
        "\n",
        "from keras.models import Sequential,model_from_json\n",
        "from keras.layers.core import Dense,Flatten\n",
        "from keras.optimizers import sgd\n",
        "from keras.layers import Conv2D, MaxPooling2D, Activation, AveragePooling2D,Reshape,BatchNormalization"
      ],
      "execution_count": 1,
      "outputs": [
        {
          "output_type": "stream",
          "text": [
            "Using TensorFlow backend.\n"
          ],
          "name": "stderr"
        },
        {
          "output_type": "stream",
          "text": [
            "Collecting scikit-video\n",
            "\u001b[?25l  Downloading https://files.pythonhosted.org/packages/b1/a6/c69cad508139a342810ae46e946ebb3256aa6e42f690d901bb68f50582e3/scikit_video-1.1.11-py2.py3-none-any.whl (2.3MB)\n",
            "\u001b[K    100% |████████████████████████████████| 2.3MB 8.7MB/s \n",
            "\u001b[?25hRequirement already satisfied: scipy in /usr/local/lib/python3.6/dist-packages (from scikit-video) (1.1.0)\n",
            "Requirement already satisfied: numpy in /usr/local/lib/python3.6/dist-packages (from scikit-video) (1.14.6)\n",
            "Requirement already satisfied: pillow in /usr/local/lib/python3.6/dist-packages (from scikit-video) (4.0.0)\n",
            "Requirement already satisfied: olefile in /usr/local/lib/python3.6/dist-packages (from pillow->scikit-video) (0.46)\n",
            "Installing collected packages: scikit-video\n",
            "Successfully installed scikit-video-1.1.11\n",
            "Requirement already satisfied: opencv-python in /usr/local/lib/python3.6/dist-packages (3.4.5.20)\n",
            "Requirement already satisfied: numpy>=1.11.3 in /usr/local/lib/python3.6/dist-packages (from opencv-python) (1.14.6)\n"
          ],
          "name": "stdout"
        }
      ]
    },
    {
      "metadata": {
        "id": "yQr6sW3wQZsp",
        "colab_type": "text"
      },
      "cell_type": "markdown",
      "source": [
        "# MiniProject #3: Deep Reinforcement Learning"
      ]
    },
    {
      "metadata": {
        "id": "euX6dNygQZsq",
        "colab_type": "text"
      },
      "cell_type": "markdown",
      "source": [
        "__Notations__: $E_p$ is the expectation under probability $p$. Please justify each of your answer and widely comment your code."
      ]
    },
    {
      "metadata": {
        "id": "40stJJObQZsq",
        "colab_type": "text"
      },
      "cell_type": "markdown",
      "source": [
        "# Context"
      ]
    },
    {
      "metadata": {
        "id": "1ZgJd2QzQZss",
        "colab_type": "text"
      },
      "cell_type": "markdown",
      "source": [
        "In a reinforcement learning algorithm, we modelize each step $t$ as an action $a_t$ obtained from a state $s_t$, i.e. $\\{(a_{t},s_{t})_{t\\leq T}\\}$ having the Markov property. We consider a discount factor $\\gamma \\in [0,1]$ that ensures convergence. The goal is to find among all the policies $\\pi$, one that maximizes the expected reward:\n",
        "\n",
        "\\begin{equation*}\n",
        "R(\\pi)=\\sum_{t\\leq T}E_{p^{\\pi}}[\\gamma^t r(s_{t},a_{t})] \\> ,\n",
        "\\end{equation*}\n",
        "\n",
        "where: \n",
        "\\begin{equation*}p^{\\pi}(a_{0},a_{1},s_{1},...,a_{T},s_{T})=p(a_{0})\\prod_{t=1}^{T}\\pi(a_{t}|s_{t})p(s_{t+1}|s_{t},a_{t}) \\> .\n",
        "\\end{equation*}\n",
        "\n",
        "We note the $Q$-function:\n",
        "\n",
        "\\begin{equation*}Q^\\pi(s,a)=E_{p^{\\pi}}[\\sum_{t\\leq T}\\gamma^{t}r(s_{t},a_{t})|s_{0}=s,a_{0}=a] \\> .\n",
        "\\end{equation*}\n",
        "\n",
        "Thus, the optimal Q function is:\n",
        "\\begin{equation*}\n",
        "Q^*(s,a)=\\max_{\\pi}Q^\\pi(s,a) \\> .\n",
        "\\end{equation*}\n",
        "\n",
        "In this project, we will apply the deep reinforcement learning techniques to a simple game: an agent will have to learn from scratch a policy that will permit it maximizing a reward."
      ]
    },
    {
      "metadata": {
        "id": "YXRs7ZZkQZsu",
        "colab_type": "text"
      },
      "cell_type": "markdown",
      "source": [
        "## The environment, the agent and the game"
      ]
    },
    {
      "metadata": {
        "id": "SSUU80q6QZsu",
        "colab_type": "text"
      },
      "cell_type": "markdown",
      "source": [
        "### The environment"
      ]
    },
    {
      "metadata": {
        "id": "LwqnxIxNQZsw",
        "colab_type": "text"
      },
      "cell_type": "markdown",
      "source": [
        "```Environment``` is an abstract class that represents the states, rewards, and actions to obtain the new state."
      ]
    },
    {
      "metadata": {
        "id": "3zr-4VX2QZsw",
        "colab_type": "code",
        "colab": {}
      },
      "cell_type": "code",
      "source": [
        "class Environment(object):\n",
        "    def __init__(self):\n",
        "        pass\n",
        "\n",
        "    def act(self, act):\n",
        "        \"\"\"\n",
        "        One can act on the environment and obtain its reaction:\n",
        "        - the new state\n",
        "        - the reward of the new state\n",
        "        - should we continue the game?\n",
        "\n",
        "        :return: state, reward, game_over\n",
        "        \"\"\"\n",
        "        pass\n",
        "\n",
        "\n",
        "    def reset(self):\n",
        "        \"\"\"\n",
        "        Reinitialize the environment to a random state and returns\n",
        "        the original state\n",
        "\n",
        "        :return: state\n",
        "        \"\"\"\n",
        "        pass\n",
        "    \n",
        "    def draw(self):\n",
        "        \"\"\"\n",
        "        Visualize in the console or graphically the current state\n",
        "        \"\"\"\n",
        "        pass"
      ],
      "execution_count": 0,
      "outputs": []
    },
    {
      "metadata": {
        "id": "xih-TdqcQZs0",
        "colab_type": "text"
      },
      "cell_type": "markdown",
      "source": [
        "The method ```act``` allows to act on the environment at a given state $s_t$ (stored internally), via action $a_t$. The method will return the new state $s_{t+1}$, the reward $r(s_{t},a_{t})$ and determines if $t\\leq T$ (*game_over*).\n",
        "\n",
        "The method ```reset``` simply reinitializes the environment to a random state $s_0$.\n",
        "\n",
        "The method ```draw``` displays the current state $s_t$ (this is useful to check the behavior of the Agent).\n",
        "\n",
        "We modelize $s_t$ as a tensor, while $a_t$ is an integer."
      ]
    },
    {
      "metadata": {
        "id": "On1p9RfSQZs2",
        "colab_type": "text"
      },
      "cell_type": "markdown",
      "source": [
        "### The Agent"
      ]
    },
    {
      "metadata": {
        "id": "s5iaRJ0qQZs3",
        "colab_type": "text"
      },
      "cell_type": "markdown",
      "source": [
        "The goal of the ```Agent``` is to interact with the ```Environment``` by proposing actions $a_t$ obtained from a given state $s_t$ to attempt to maximize its __reward__ $r(s_t,a_t)$. We propose the following abstract class:"
      ]
    },
    {
      "metadata": {
        "id": "O5bH9N8iQZs5",
        "colab_type": "code",
        "colab": {}
      },
      "cell_type": "code",
      "source": [
        "class Agent(object):\n",
        "    def __init__(self, epsilon=0.1, n_action=4):\n",
        "        self.epsilon = epsilon\n",
        "        self.n_action = n_action\n",
        "    \n",
        "    def set_epsilon(self,e):\n",
        "        self.epsilon = e\n",
        "\n",
        "    def act(self,s,train=True):\n",
        "        \"\"\" This function should return the next action to do:\n",
        "        an integer between 0 and 4 (not included) with a random exploration of epsilon\"\"\"\n",
        "        if train:\n",
        "            if np.random.rand() <= self.epsilon:\n",
        "                a = np.random.randint(0, self.n_action, size=1)[0]\n",
        "            else:\n",
        "                a = self.learned_act(s)\n",
        "        else: # in some cases, this can improve the performance.. remove it if poor performances\n",
        "            a = self.learned_act(s)\n",
        "\n",
        "        return a\n",
        "\n",
        "    def learned_act(self,s):\n",
        "        \"\"\" Act via the policy of the agent, from a given state s\n",
        "        it proposes an action a\"\"\"\n",
        "        pass\n",
        "\n",
        "    def reinforce(self, s, n_s, a, r, game_over_):\n",
        "        \"\"\" This function is the core of the learning algorithm. \n",
        "        It takes as an input the current state s_, the next state n_s_\n",
        "        the action a_ used to move from s_ to n_s_ and the reward r_.\n",
        "        \n",
        "        Its goal is to learn a policy.\n",
        "        \"\"\"\n",
        "        pass\n",
        "\n",
        "    def save(self):\n",
        "        \"\"\" This function returns basic stats if applicable: the\n",
        "        loss and/or the model\"\"\"\n",
        "        pass\n",
        "\n",
        "    def load(self):\n",
        "        \"\"\" This function allows to restore a model\"\"\"\n",
        "        pass"
      ],
      "execution_count": 0,
      "outputs": []
    },
    {
      "metadata": {
        "id": "QDAdruzNQZs-",
        "colab_type": "text"
      },
      "cell_type": "markdown",
      "source": [
        "***\n",
        "__Question 1__:\n",
        "Explain the function act. Why is ```epsilon``` essential?"
      ]
    },
    {
      "metadata": {
        "id": "30HuWEQUQZs_",
        "colab_type": "text"
      },
      "cell_type": "markdown",
      "source": [
        "At each round $t$, an action is chosen based on the previous actions . $\\epsilon$ helps exploration: with a probability of $\\epsilon$ you try out an action randomly and with a probability of $1-\\epsilon$ you try out the best action considering the previous information that you have. The function $act$ implement the previous methodology.\n",
        "Nonetheless, the choice of epsilon is very important. The higher $\\epsilon$ is, the more exploration there will be. $\\epsilon$ helps the trade-off exploration/exploitation. On the other hand, if $\\epsilon$ is very low, the agent will choose the best option so far without exploring other options."
      ]
    },
    {
      "metadata": {
        "id": "vnBNdlYJQZtA",
        "colab_type": "text"
      },
      "cell_type": "markdown",
      "source": [
        "***\n",
        "### The Game"
      ]
    },
    {
      "metadata": {
        "id": "Ma_09rUiQZtC",
        "colab_type": "text"
      },
      "cell_type": "markdown",
      "source": [
        "The ```Agent``` and the ```Environment``` work in an interlaced way as in the following (take some time to understand this code as it is the core of the project)\n",
        "\n",
        "```python\n",
        "\n",
        "epoch = 300\n",
        "env = Environment()\n",
        "agent = Agent()\n",
        "\n",
        "\n",
        "# Number of won games\n",
        "score = 0\n",
        "loss = 0\n",
        "\n",
        "\n",
        "for e in range(epoch):\n",
        "    # At each epoch, we restart to a fresh game and get the initial state\n",
        "    state = env.reset()\n",
        "    # This assumes that the games will end\n",
        "    game_over = False\n",
        "\n",
        "    win = 0\n",
        "    lose = 0\n",
        "    \n",
        "    while not game_over:\n",
        "        # The agent performs an action\n",
        "        action = agent.act(state)\n",
        "\n",
        "        # Apply an action to the environment, get the next state, the reward\n",
        "        # and if the games end\n",
        "        prev_state = state\n",
        "        state, reward, game_over = env.act(action)\n",
        "\n",
        "        # Update the counters\n",
        "        if reward > 0:\n",
        "            win = win + reward\n",
        "        if reward < 0:\n",
        "            lose = lose -reward\n",
        "\n",
        "        # Apply the reinforcement strategy\n",
        "        loss = agent.reinforce(prev_state, state,  action, reward, game_over)\n",
        "\n",
        "    # Save as a mp4\n",
        "    if e % 10 == 0:\n",
        "        env.draw(e)\n",
        "\n",
        "    # Update stats\n",
        "    score += win-lose\n",
        "\n",
        "    print(\"Epoch {:03d}/{:03d} | Loss {:.4f} | Win/lose count {}/{} ({})\"\n",
        "          .format(e, epoch, loss, win, lose, win-lose))\n",
        "    agent.save()\n",
        "```"
      ]
    },
    {
      "metadata": {
        "id": "1hx8j4LaQZtD",
        "colab_type": "text"
      },
      "cell_type": "markdown",
      "source": [
        "# The game, *eat cheese*"
      ]
    },
    {
      "metadata": {
        "id": "hOxi0sw8QZtH",
        "colab_type": "text"
      },
      "cell_type": "markdown",
      "source": [
        "A rat runs on an island and tries to eat as much as possible. The island is subdivided into $N\\times N$ cells, in which there are cheese (+0.5) and poisonous cells (-1). The rat has a visibility of 2 cells (thus it can see $5^2$ cells). The rat is given a time $T$ to accumulate as much food as possible. It can perform 4 actions: going up, down, left, right. \n",
        "\n",
        "The goal is to code an agent to solve this task that will learn by trial and error. We propose the following environment:"
      ]
    },
    {
      "metadata": {
        "id": "ZNmI_YsMQZtH",
        "colab_type": "code",
        "colab": {}
      },
      "cell_type": "code",
      "source": [
        "class Environment(object):\n",
        "    def __init__(self, grid_size=10, max_time=500, temperature=0.1):\n",
        "        grid_size = grid_size+4\n",
        "        self.grid_size = grid_size\n",
        "        self.max_time = max_time\n",
        "        self.temperature = temperature\n",
        "\n",
        "        #board on which one plays\n",
        "        self.board = np.zeros((grid_size,grid_size))\n",
        "        self.position = np.zeros((grid_size,grid_size))\n",
        "\n",
        "        # coordinate of the cat\n",
        "        self.x = 0\n",
        "        self.y = 1\n",
        "\n",
        "        # self time\n",
        "        self.t = 0\n",
        "\n",
        "        self.scale=16\n",
        "\n",
        "        self.to_draw = np.zeros((max_time+2, grid_size*self.scale, grid_size*self.scale, 3))\n",
        "\n",
        "\n",
        "    def draw(self,e):\n",
        "        skvideo.io.vwrite(str(e) + '.mp4', self.to_draw)\n",
        "\n",
        "    def get_frame(self,t):\n",
        "        b = np.zeros((self.grid_size,self.grid_size,3))+128\n",
        "        b[self.board>0,0] = 256\n",
        "        b[self.board < 0, 2] = 256\n",
        "        b[self.x,self.y,:]=256\n",
        "        b[-2:,:,:]=0\n",
        "        b[:,-2:,:]=0\n",
        "        b[:2,:,:]=0\n",
        "        b[:,:2,:]=0\n",
        "        \n",
        "        b =  cv2.resize(b, None, fx=self.scale, fy=self.scale, interpolation=cv2.INTER_NEAREST)\n",
        "\n",
        "        self.to_draw[t,:,:,:]=b\n",
        "\n",
        "\n",
        "    def act(self, action):\n",
        "        \"\"\"This function returns the new state, reward and decides if the\n",
        "        game ends.\"\"\"\n",
        "\n",
        "        self.get_frame(int(self.t))\n",
        "\n",
        "        self.position = np.zeros((self.grid_size, self.grid_size))\n",
        "\n",
        "        self.position[0:2,:]= -1\n",
        "        self.position[:,0:2] = -1\n",
        "        self.position[-2:, :] = -1\n",
        "        self.position[-2:, :] = -1\n",
        "\n",
        "        self.position[self.x, self.y] = 1\n",
        "        if action == 0:\n",
        "            if self.x == self.grid_size-3:\n",
        "                self.x = self.x-1\n",
        "            else:\n",
        "                self.x = self.x + 1\n",
        "        elif action == 1:\n",
        "            if self.x == 2:\n",
        "                self.x = self.x+1\n",
        "            else:\n",
        "                self.x = self.x-1\n",
        "        elif action == 2:\n",
        "            if self.y == self.grid_size - 3:\n",
        "                self.y = self.y - 1\n",
        "            else:\n",
        "                self.y = self.y + 1\n",
        "        elif action == 3:\n",
        "            if self.y == 2:\n",
        "                self.y = self.y + 1\n",
        "            else:\n",
        "                self.y = self.y - 1\n",
        "        else:\n",
        "            RuntimeError('Error: action not recognized')\n",
        "\n",
        "        self.t = self.t + 1\n",
        "        reward = self.board[self.x, self.y]\n",
        "        self.board[self.x, self.y] = 0\n",
        "        game_over = self.t > self.max_time\n",
        "        state = np.concatenate((self.board.reshape(self.grid_size, self.grid_size,1),\n",
        "                        self.position.reshape(self.grid_size, self.grid_size,1)),axis=2)\n",
        "        state = state[self.x-2:self.x+3,self.y-2:self.y+3,:]\n",
        "\n",
        "        return state, reward, game_over\n",
        "\n",
        "    def reset(self):\n",
        "        \"\"\"This function resets the game and returns the initial state\"\"\"\n",
        "\n",
        "        self.x = np.random.randint(3, self.grid_size-3, size=1)[0]\n",
        "        self.y = np.random.randint(3, self.grid_size-3, size=1)[0]\n",
        "\n",
        "\n",
        "        bonus = 0.5*np.random.binomial(1,self.temperature,size=self.grid_size**2)\n",
        "        bonus = bonus.reshape(self.grid_size,self.grid_size)\n",
        "\n",
        "        malus = -1.0*np.random.binomial(1,self.temperature,size=self.grid_size**2)\n",
        "        malus = malus.reshape(self.grid_size, self.grid_size)\n",
        "\n",
        "        self.to_draw = np.zeros((self.max_time+2, self.grid_size*self.scale, self.grid_size*self.scale, 3))\n",
        "\n",
        "\n",
        "        malus[bonus>0]=0\n",
        "\n",
        "        self.board = bonus + malus\n",
        "\n",
        "        self.position = np.zeros((self.grid_size, self.grid_size))\n",
        "        self.position[0:2,:]= -1\n",
        "        self.position[:,0:2] = -1\n",
        "        self.position[-2:, :] = -1\n",
        "        self.position[-2:, :] = -1\n",
        "        self.board[self.x,self.y] = 0\n",
        "        self.t = 0\n",
        "\n",
        "        state = np.concatenate((\n",
        "                               self.board.reshape(self.grid_size, self.grid_size,1),\n",
        "                        self.position.reshape(self.grid_size, self.grid_size,1)),axis=2)\n",
        "\n",
        "        state = state[self.x - 2:self.x + 3, self.y - 2:self.y + 3, :]\n",
        "        return state"
      ],
      "execution_count": 0,
      "outputs": []
    },
    {
      "metadata": {
        "id": "VzUhzkkLQZtM",
        "colab_type": "text"
      },
      "cell_type": "markdown",
      "source": [
        "The following elements are important because they correspond to the hyper parameters for this project:"
      ]
    },
    {
      "metadata": {
        "id": "-acwdwMsQZtP",
        "colab_type": "code",
        "colab": {}
      },
      "cell_type": "code",
      "source": [
        "# parameters\n",
        "size = 13\n",
        "T=200\n",
        "temperature=0.3\n",
        "epochs_train=100 # set small when debugging\n",
        "epochs_test=20 # set small when debugging\n",
        "\n",
        "# display videos\n",
        "def display_videos(name):\n",
        "    video = io.open(name, 'r+b').read()\n",
        "    encoded = base64.b64encode(video)\n",
        "    return '''<video alt=\"test\" controls>\n",
        "                <source src=\"data:video/mp4;base64,{0}\" type=\"video/mp4\" />\n",
        "             </video>'''.format(encoded.decode('ascii'))"
      ],
      "execution_count": 0,
      "outputs": []
    },
    {
      "metadata": {
        "id": "yRq4ZX6NQZtS",
        "colab_type": "text"
      },
      "cell_type": "markdown",
      "source": [
        "__Question 2__ Explain the use of the arrays ```position``` and ```board```."
      ]
    },
    {
      "metadata": {
        "id": "CYKBLM6BQZtU",
        "colab_type": "text"
      },
      "cell_type": "markdown",
      "source": [
        "\"position\" represents the actual position of the agent in the grid. The current position of the  agent is set to 1. The frontier cells are set to -1 and the other cells to 0. \"board\" represents the rewards of each position in the grid, the reward are +0.5,-1 and 0.\n",
        "\n",
        "\n",
        "\n",
        "\n"
      ]
    },
    {
      "metadata": {
        "id": "4bCJUAjsQZtY",
        "colab_type": "text"
      },
      "cell_type": "markdown",
      "source": [
        "## Random Agent"
      ]
    },
    {
      "metadata": {
        "id": "mFp2oM_fQZtZ",
        "colab_type": "text"
      },
      "cell_type": "markdown",
      "source": [
        "***\n",
        "__Question 3__ Implement a random Agent (only ```learned_act``` needs to be implemented):"
      ]
    },
    {
      "metadata": {
        "id": "ViJg6VN6QZta",
        "colab_type": "code",
        "colab": {}
      },
      "cell_type": "code",
      "source": [
        "class RandomAgent(Agent):\n",
        "    def __init__(self):\n",
        "        super(RandomAgent, self).__init__()\n",
        "        pass\n",
        "\n",
        "    def learned_act(self, s):\n",
        "        return  np.random.randint(0, self.n_action, size=1)[0]"
      ],
      "execution_count": 0,
      "outputs": []
    },
    {
      "metadata": {
        "id": "z4ChalsLQZtd",
        "colab_type": "text"
      },
      "cell_type": "markdown",
      "source": [
        "***\n",
        "***\n",
        "__Question 4__ Visualize the game moves. You need to fill in the following function for the evaluation:"
      ]
    },
    {
      "metadata": {
        "id": "gWLECoJTQZte",
        "colab_type": "code",
        "colab": {}
      },
      "cell_type": "code",
      "source": [
        "def test(agent,env,epochs,prefix=''):\n",
        "    # Number of won games\n",
        "    score = 0\n",
        "        \n",
        "    for e in range(epochs):\n",
        "        \n",
        "        state = env.reset()#Initial state\n",
        "        game_over = False #If not arrived to the terminal position\n",
        "        \n",
        "        win = 0\n",
        "        lose = 0\n",
        "        \n",
        "        while not game_over:\n",
        "            action = agent.act(state,train=False)\n",
        "            \n",
        "            prev_state = state\n",
        "            \n",
        "            state,reward,game_over = env.act(action)\n",
        "            \n",
        "            if reward>0:\n",
        "                win = win + reward\n",
        "            else:\n",
        "                lose =lose -reward\n",
        "                \n",
        "        # Save as a mp4\n",
        "        env.draw(prefix+str(e))\n",
        "\n",
        "        # Update stats\n",
        "        score = score + win-lose\n",
        "\n",
        "        print(\"Win/lose count {}/{}. Average score ({})\"\n",
        "              .format(win, lose, score/(1+e)))\n",
        "    print('Final score: '+str(score/epochs))"
      ],
      "execution_count": 0,
      "outputs": []
    },
    {
      "metadata": {
        "id": "rjqvhHGfQZtg",
        "colab_type": "code",
        "outputId": "8ab74e06-a737-4d15-8736-8ed7b9fe4060",
        "colab": {
          "base_uri": "https://localhost:8080/",
          "height": 666
        }
      },
      "cell_type": "code",
      "source": [
        "# skvideo.setFFmpegPath(\"C:/Users/lahla/Anaconda3/envs/python3.6/Lib/site-packages/ffmpeg-4.1-win64-static/bin\")\n",
        "# import skvideo.io       \n",
        "# Initialize the game\n",
        "env = Environment(grid_size=size, max_time=T,temperature=temperature)\n",
        "\n",
        "# Initialize the agent!\n",
        "agent = RandomAgent()\n",
        "\n",
        "test(agent,env,epochs_test,prefix='random')\n",
        "HTML(display_videos('random0.mp4'))"
      ],
      "execution_count": 8,
      "outputs": [
        {
          "output_type": "stream",
          "text": [
            "Win/lose count 13.0/13.0. Average score (0.0)\n",
            "Win/lose count 3.5/10.0. Average score (-3.25)\n",
            "Win/lose count 10.5/16.0. Average score (-4.0)\n",
            "Win/lose count 10.5/14.0. Average score (-3.875)\n",
            "Win/lose count 11.0/14.0. Average score (-3.7)\n",
            "Win/lose count 13.0/19.0. Average score (-4.083333333333333)\n",
            "Win/lose count 8.5/17.0. Average score (-4.714285714285714)\n",
            "Win/lose count 9.0/21.0. Average score (-5.625)\n",
            "Win/lose count 14.0/16.0. Average score (-5.222222222222222)\n",
            "Win/lose count 11.0/11.0. Average score (-4.7)\n",
            "Win/lose count 9.0/13.0. Average score (-4.636363636363637)\n",
            "Win/lose count 9.5/10.0. Average score (-4.291666666666667)\n",
            "Win/lose count 5.0/9.0. Average score (-4.269230769230769)\n",
            "Win/lose count 14.5/8.0. Average score (-3.5)\n",
            "Win/lose count 10.0/11.0. Average score (-3.3333333333333335)\n",
            "Win/lose count 4.5/11.0. Average score (-3.53125)\n",
            "Win/lose count 12.0/15.0. Average score (-3.5)\n",
            "Win/lose count 10.5/11.0. Average score (-3.3333333333333335)\n",
            "Win/lose count 9.5/15.0. Average score (-3.4473684210526314)\n",
            "Win/lose count 9.5/8.0. Average score (-3.2)\n",
            "Final score: -3.2\n"
          ],
          "name": "stdout"
        },
        {
          "output_type": "execute_result",
          "data": {
            "text/html": [
              "<video alt=\"test\" controls>\n",
              "                <source src=\"data:video/mp4;base64,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\" type=\"video/mp4\" />\n",
              "             </video>"
            ],
            "text/plain": [
              "<IPython.core.display.HTML object>"
            ]
          },
          "metadata": {
            "tags": []
          },
          "execution_count": 8
        }
      ]
    },
    {
      "metadata": {
        "id": "01XzfmQHQZtm",
        "colab_type": "text"
      },
      "cell_type": "markdown",
      "source": [
        "***\n",
        "## DQN"
      ]
    },
    {
      "metadata": {
        "id": "PzeK1FhvQZtm",
        "colab_type": "text"
      },
      "cell_type": "markdown",
      "source": [
        "Let us assume here that $T=\\infty$.\n",
        "\n",
        "***\n",
        "__Question 5__ Let $\\pi$ be a policy, show that:\n",
        "\n",
        "\\begin{equation*}\n",
        "Q^{\\pi}(s,a)=E_{(s',a')\\sim p(.|s,a)}[r(s,a)+\\gamma Q^{\\pi}(s',a')]\n",
        "\\end{equation*}\n",
        "\n",
        "Then, show that for the optimal policy $\\pi^*$ (we assume its existence), the following holds: \n",
        "\n",
        "\\begin{equation*}\n",
        "Q^{*}(s,a)=E_{s'\\sim \\pi^*(.|s,a)}[r(s,a)+\\gamma\\max_{a'}Q^{*}(s',a')].\n",
        "\\end{equation*}\n",
        "Finally, deduce that a plausible objective is:\n",
        "\n",
        "\\begin{equation*}\n",
        "\\mathcal{L}(\\theta)=E_{s' \\sim \\pi^*(.|s,a)}\\Vert r+\\gamma\\max \\max_{a'}Q(s',a',\\theta)-Q(s,a,\\theta)\\Vert^{2}.\n",
        "\\end{equation*}\n",
        "\n",
        "\n"
      ]
    },
    {
      "metadata": {
        "id": "nz_oB3qiQZtn",
        "colab_type": "text"
      },
      "cell_type": "markdown",
      "source": [
        "**Answers:**\n",
        "\n",
        "**Demonstration 1:**\n",
        "\\begin{equation*}\n",
        "Q^{\\pi}(s,a)=E_{\\pi}[\\sum_{t \\geq 0}\\gamma^{t}r(s_t,a_t)|s_0=s,a_0=a]\n",
        "=r(s,a)+E_{\\pi}[\\sum_{t \\geq 1}\\gamma^{t}r(s_t,a_t)|s_0=s,a_0=a]\n",
        "\\end{equation*}\n",
        "\\begin{equation*}\n",
        "Q^{\\pi}(s,a)\n",
        "=r(s,a)+\\gamma \\sum_{s',a'}P(s_{t+1}=s'|s_t=s,a_t=a)E_{\\pi}[\\sum_{t \\geq 0}\\gamma^{t}r(s_t,a_t)|s_0=s',a_0=a']\n",
        "\\end{equation*}\n",
        "\\begin{equation*}\n",
        "Q^{\\pi}(s,a)\n",
        "=r(s,a)+\\gamma E_{(s',a')\\sim P(.|s,a)}[Q^{\\pi}(s',a')]\n",
        "\\end{equation*}\n",
        "\\begin{equation*}\n",
        "Q^{\\pi}(s,a)\n",
        "= E_{(s',a')\\sim p(.|s,a)}[r(s,a)+\\gamma Q^{\\pi}(s',a')]\n",
        "\\end{equation*}\n",
        "**Demonstration 2:**\n",
        "In MDP, the Bellman equation has an optimal policy $\\pi^{*}$.\n",
        "\\begin{equation*}\n",
        "Q^{*}(s,a)= Q^{\\pi^{*}}(s,a) = E_{(s',a')\\sim p(.|s,a)}[r(s,a)+\\gamma Q^{\\pi^{*}}(s',\\pi^{*}(s'))]\n",
        "\\end{equation*}\n",
        "\\begin{equation*}\n",
        "Q^{*}(s,a)= E_{(s',a')\\sim p(.|s,a)}[r(s,a)+\\gamma max_{a'} Q^{*}(s',a')]\n",
        "\\end{equation*}\n",
        "\n",
        "**Demonstration 3:**\n",
        "The previous equality could be written as: \n",
        "\\begin{equation*}\n",
        " E_{(s',a')\\sim p(.|s,a)}[r(s,a)+\\gamma max_{a'} Q^{*}(s',a')-Q^{*}(s,a)]=0\n",
        "\\end{equation*}\n",
        "Therefore to look for the optimal policy, we can look for the parameter that minimize the loss."
      ]
    },
    {
      "metadata": {
        "id": "8koEL3VGQZtp",
        "colab_type": "text"
      },
      "cell_type": "markdown",
      "source": [
        "***\n",
        "The DQN-learning algorithm relies on these derivations to train the parameters $\\theta$ of a Deep Neural Network:\n",
        "\n",
        "1. At the state $s_t$, select the action $a_t$ with best reward using $Q_t$ and store the results;\n",
        "\n",
        "2. Obtain the new state $s_{t+1}$ from the environment $p$;\n",
        "\n",
        "3. Store $(s_t,a_t,s_{t+1})$;\n",
        "\n",
        "4. Obtain $Q_{t+1}$ by minimizing  $\\mathcal{L}$ from a recovered batch from the previously stored results.\n",
        "\n",
        "***\n",
        "__Question 6__ Implement the class ```Memory``` that stores moves (in a replay buffer) via ```remember``` and provides a ```random_access``` to these. Specify a maximum memory size to avoid side effects. You can for example use a ```list()``` and set by default ```max_memory=100```."
      ]
    },
    {
      "metadata": {
        "id": "D1xawd5CQZtr",
        "colab_type": "code",
        "colab": {}
      },
      "cell_type": "code",
      "source": [
        "class Memory(object):\n",
        "    def __init__(self, max_memory=100):\n",
        "        self.max_memory = max_memory\n",
        "        self.memory = list()\n",
        "\n",
        "    def remember(self, m):\n",
        "        self.memory.append(m)\n",
        "        if len(self.memory)> self.max_memory:\n",
        "            del self.memory[0]\n",
        "    def random_access(self):\n",
        "        idx = np.random.randint(0,len(self.memory),size =1 )[0]\n",
        "        return self.memory[idx]"
      ],
      "execution_count": 0,
      "outputs": []
    },
    {
      "metadata": {
        "id": "G_M6pcroQZtu",
        "colab_type": "text"
      },
      "cell_type": "markdown",
      "source": [
        "***\n",
        "The pipeline we will use for training is given below:"
      ]
    },
    {
      "metadata": {
        "id": "NSi0TconQZtv",
        "colab_type": "code",
        "colab": {}
      },
      "cell_type": "code",
      "source": [
        "def train(agent,env,epoch,prefix=''):\n",
        "    # Number of won games\n",
        "    score = 0\n",
        "    loss = 0\n",
        "\n",
        "    for e in range(epoch):\n",
        "        # At each epoch, we restart to a fresh game and get the initial state\n",
        "        state = env.reset()\n",
        "        # This assumes that the games will terminate\n",
        "        game_over = False\n",
        "\n",
        "        win = 0\n",
        "        lose = 0\n",
        "\n",
        "        while not game_over:\n",
        "            # The agent performs an action\n",
        "            action = agent.act(state)\n",
        "\n",
        "            # Apply an action to the environment, get the next state, the reward\n",
        "            # and if the games end\n",
        "            prev_state = state\n",
        "            state, reward, game_over = env.act(action)\n",
        "\n",
        "            # Update the counters\n",
        "            if reward > 0:\n",
        "                win = win + reward\n",
        "            if reward < 0:\n",
        "                lose = lose -reward\n",
        "\n",
        "            # Apply the reinforcement strategy\n",
        "            loss = agent.reinforce(prev_state, state,  action, reward, game_over)\n",
        "\n",
        "        # Save as a mp4\n",
        "        if e % 10 == 0:\n",
        "            env.draw(prefix+str(e))\n",
        "\n",
        "        # Update stats\n",
        "        score += win-lose\n",
        "\n",
        "        print(\"Epoch {:03d}/{:03d} | Loss {:.4f} | Win/lose count {}/{} ({})\"\n",
        "              .format(e, epoch, loss, win, lose, win-lose))\n",
        "        agent.save(name_weights=prefix+'model.h5',name_model=prefix+'model.json')"
      ],
      "execution_count": 0,
      "outputs": []
    },
    {
      "metadata": {
        "id": "wxjc-aK6QZt1",
        "colab_type": "text"
      },
      "cell_type": "markdown",
      "source": [
        "***\n",
        "__Question 7__ Implement the DQN training algorithm using a cascade of fully connected layers. You can use different learning rate, batch size or memory size parameters. In particular, the loss might oscillate while the player will start to win the games. You have to find a good criterium."
      ]
    },
    {
      "metadata": {
        "id": "z4vr-uu_QZt2",
        "colab_type": "code",
        "colab": {}
      },
      "cell_type": "code",
      "source": [
        "class DQN(Agent):\n",
        "    def __init__(self, grid_size,  epsilon = 0.1, memory_size=100, batch_size = 16,n_state=2):\n",
        "        super(DQN, self).__init__(epsilon = epsilon)\n",
        "\n",
        "        # Discount for Q learning\n",
        "        self.discount = 0.99\n",
        "        \n",
        "        self.grid_size = grid_size\n",
        "        \n",
        "        # number of state\n",
        "        self.n_state = n_state\n",
        "\n",
        "        # Memory\n",
        "        self.memory = Memory(memory_size)\n",
        "        \n",
        "        # Batch size when learning\n",
        "        self.batch_size = batch_size\n",
        "\n",
        "    def learned_act(self, s):\n",
        "        l = self.model.predict(s.reshape([1,s.shape[0],s.shape[1],s.shape[2]]))\n",
        "        best_action = np.argmax(l)\n",
        "        return best_action\n",
        "                                        \n",
        "\n",
        "    def reinforce(self, s_, n_s_, a_, r_, game_over_):\n",
        "        # Two steps: first memorize the states, second learn from the pool\n",
        "\n",
        "        self.memory.remember([s_, n_s_, a_, r_, game_over_])\n",
        "        \n",
        "        input_states = np.zeros((self.batch_size, 5,5,self.n_state))\n",
        "        target_q = np.zeros((self.batch_size, 4))\n",
        "        \n",
        "        for i in range(self.batch_size):\n",
        "            s_, n_s_, a_, r_, game_over_  = self.memory.random_access()\n",
        "            target_q[i] =self.model.predict(s_.reshape([1,s_.shape[0],s_.shape[1],s_.shape[2]]))[0]\n",
        "            \n",
        "            input_states[i] = s_\n",
        "            \n",
        "            if game_over_:\n",
        "                target_q[i,a_] = r_\n",
        "            else:\n",
        "                target_q[i,a_] = r_  + self.discount*max(self.model.predict(n_s_.reshape([1,s_.shape[0],s_.shape[1],s_.shape[2]]))[0])\n",
        "        # HINT: Clip the target to avoid exploiding gradients.. -- clipping is a bit tighter\n",
        "        target_q = np.clip(target_q, -3, 3)\n",
        "\n",
        "        l = self.model.train_on_batch(input_states, target_q)\n",
        "\n",
        "\n",
        "        return l\n",
        "\n",
        "    def save(self,name_weights='model.h5',name_model='model.json'):\n",
        "        self.model.save_weights(name_weights, overwrite=True)\n",
        "        with open(name_model, \"w\") as outfile:\n",
        "            json.dump(self.model.to_json(), outfile)\n",
        "            \n",
        "    def load(self,name_weights='model.h5',name_model='model.json'):\n",
        "        with open(name_model, \"r\") as jfile:\n",
        "            model = model_from_json(json.load(jfile))\n",
        "        model.load_weights(name_weights)\n",
        "        model.compile(\"sgd\", \"mse\")\n",
        "        self.model = model\n",
        "\n",
        "            \n",
        "class DQN_FC(DQN):\n",
        "    def __init__(self, *args, lr=0.1,**kwargs):\n",
        "        super(DQN_FC, self).__init__( *args,**kwargs)\n",
        "        \n",
        "        # NN Model\n",
        "        \n",
        "        model = Sequential()\n",
        "        model.add(Flatten(input_shape=(5,5,self.n_state,)))\n",
        "        model.add(Dense(64,activation ='relu')) \n",
        "#         model.add(Dense(16,activation ='relu')) \n",
        "        model.add(Dense(4))\n",
        "        \n",
        "        model.compile(sgd(lr=lr, decay=1e-4, momentum=0.0), \"mse\")\n",
        "        self.model = model\n",
        "        "
      ],
      "execution_count": 0,
      "outputs": []
    },
    {
      "metadata": {
        "id": "8UWo8zCcQZt6",
        "colab_type": "code",
        "outputId": "7e7c888e-8224-4d50-a621-52c632da22ce",
        "colab": {
          "base_uri": "https://localhost:8080/",
          "height": 2070
        }
      },
      "cell_type": "code",
      "source": [
        "env = Environment(grid_size=size, max_time=T, temperature=0.3)\n",
        "agent = DQN_FC(size, lr=.1, epsilon = 0.1, memory_size=2000, batch_size = 32)\n",
        "train(agent, env, epochs_train, prefix='fc_train')\n",
        "HTML(display_videos('fc_train50.mp4'))"
      ],
      "execution_count": 14,
      "outputs": [
        {
          "output_type": "stream",
          "text": [
            "Epoch 000/100 | Loss 0.0038 | Win/lose count 3.0/4.0 (-1.0)\n",
            "Epoch 001/100 | Loss 0.0109 | Win/lose count 2.5/4.0 (-1.5)\n",
            "Epoch 002/100 | Loss 0.0005 | Win/lose count 1.0/1.0 (0.0)\n",
            "Epoch 003/100 | Loss 0.0045 | Win/lose count 3.0/3.0 (0.0)\n",
            "Epoch 004/100 | Loss 0.0113 | Win/lose count 0.5/2.0 (-1.5)\n",
            "Epoch 005/100 | Loss 0.0037 | Win/lose count 5.5/4.0 (1.5)\n",
            "Epoch 006/100 | Loss 0.0473 | Win/lose count 2.5/1.0 (1.5)\n",
            "Epoch 007/100 | Loss 0.0161 | Win/lose count 1.0/4.0 (-3.0)\n",
            "Epoch 008/100 | Loss 0.0196 | Win/lose count 2.5/2.0 (0.5)\n",
            "Epoch 009/100 | Loss 0.0058 | Win/lose count 1.5/6.0 (-4.5)\n",
            "Epoch 010/100 | Loss 0.0028 | Win/lose count 1.0/2.0 (-1.0)\n",
            "Epoch 011/100 | Loss 0.0035 | Win/lose count 1.0/2.0 (-1.0)\n",
            "Epoch 012/100 | Loss 0.0418 | Win/lose count 5.0/5.0 (0.0)\n",
            "Epoch 013/100 | Loss 0.0118 | Win/lose count 2.5/3.0 (-0.5)\n",
            "Epoch 014/100 | Loss 0.0188 | Win/lose count 4.5/3.0 (1.5)\n",
            "Epoch 015/100 | Loss 0.0012 | Win/lose count 5.5/8.0 (-2.5)\n",
            "Epoch 016/100 | Loss 0.0543 | Win/lose count 3.0/2.0 (1.0)\n",
            "Epoch 017/100 | Loss 0.0264 | Win/lose count 6.0/5.0 (1.0)\n",
            "Epoch 018/100 | Loss 0.0016 | Win/lose count 2.5/2.0 (0.5)\n",
            "Epoch 019/100 | Loss 0.0028 | Win/lose count 5.0/5.0 (0.0)\n",
            "Epoch 020/100 | Loss 0.0067 | Win/lose count 2.5/3.0 (-0.5)\n",
            "Epoch 021/100 | Loss 0.0050 | Win/lose count 3.0/3.0 (0.0)\n",
            "Epoch 022/100 | Loss 0.0060 | Win/lose count 3.0/3.0 (0.0)\n",
            "Epoch 023/100 | Loss 0.0039 | Win/lose count 4.5/3.0 (1.5)\n",
            "Epoch 024/100 | Loss 0.0040 | Win/lose count 6.0/0 (6.0)\n",
            "Epoch 025/100 | Loss 0.0020 | Win/lose count 9.0/2.0 (7.0)\n",
            "Epoch 026/100 | Loss 0.0025 | Win/lose count 1.0/3.0 (-2.0)\n",
            "Epoch 027/100 | Loss 0.0026 | Win/lose count 4.0/4.0 (0.0)\n",
            "Epoch 028/100 | Loss 0.0012 | Win/lose count 5.0/3.0 (2.0)\n",
            "Epoch 029/100 | Loss 0.0042 | Win/lose count 6.5/2.0 (4.5)\n",
            "Epoch 030/100 | Loss 0.0030 | Win/lose count 4.0/1.0 (3.0)\n",
            "Epoch 031/100 | Loss 0.0035 | Win/lose count 12.0/1.0 (11.0)\n",
            "Epoch 032/100 | Loss 0.0075 | Win/lose count 6.0/2.0 (4.0)\n",
            "Epoch 033/100 | Loss 0.0038 | Win/lose count 3.0/0 (3.0)\n",
            "Epoch 034/100 | Loss 0.0042 | Win/lose count 13.0/5.0 (8.0)\n",
            "Epoch 035/100 | Loss 0.0023 | Win/lose count 7.0/0 (7.0)\n",
            "Epoch 036/100 | Loss 0.0048 | Win/lose count 4.5/3.0 (1.5)\n",
            "Epoch 037/100 | Loss 0.0046 | Win/lose count 3.0/3.0 (0.0)\n",
            "Epoch 038/100 | Loss 0.0555 | Win/lose count 5.5/2.0 (3.5)\n",
            "Epoch 039/100 | Loss 0.0048 | Win/lose count 9.0/3.0 (6.0)\n",
            "Epoch 040/100 | Loss 0.0051 | Win/lose count 9.5/2.0 (7.5)\n",
            "Epoch 041/100 | Loss 0.0035 | Win/lose count 10.5/3.0 (7.5)\n",
            "Epoch 042/100 | Loss 0.0021 | Win/lose count 5.0/3.0 (2.0)\n",
            "Epoch 043/100 | Loss 0.0502 | Win/lose count 8.5/5.0 (3.5)\n",
            "Epoch 044/100 | Loss 0.0023 | Win/lose count 8.5/8.0 (0.5)\n",
            "Epoch 045/100 | Loss 0.0075 | Win/lose count 10.5/7.0 (3.5)\n",
            "Epoch 046/100 | Loss 0.1406 | Win/lose count 6.0/2.0 (4.0)\n",
            "Epoch 047/100 | Loss 0.0056 | Win/lose count 5.0/0 (5.0)\n",
            "Epoch 048/100 | Loss 0.0046 | Win/lose count 3.5/0 (3.5)\n",
            "Epoch 049/100 | Loss 0.0084 | Win/lose count 11.0/4.0 (7.0)\n",
            "Epoch 050/100 | Loss 0.0036 | Win/lose count 5.0/3.0 (2.0)\n",
            "Epoch 051/100 | Loss 0.0018 | Win/lose count 9.5/3.0 (6.5)\n",
            "Epoch 052/100 | Loss 0.0030 | Win/lose count 12.0/5.0 (7.0)\n",
            "Epoch 053/100 | Loss 0.0047 | Win/lose count 16.5/3.0 (13.5)\n",
            "Epoch 054/100 | Loss 0.0057 | Win/lose count 14.0/3.0 (11.0)\n",
            "Epoch 055/100 | Loss 0.0063 | Win/lose count 14.5/4.0 (10.5)\n",
            "Epoch 056/100 | Loss 0.0051 | Win/lose count 8.5/1.0 (7.5)\n",
            "Epoch 057/100 | Loss 0.0076 | Win/lose count 14.5/2.0 (12.5)\n",
            "Epoch 058/100 | Loss 0.0523 | Win/lose count 12.0/1.0 (11.0)\n",
            "Epoch 059/100 | Loss 0.0040 | Win/lose count 7.5/2.0 (5.5)\n",
            "Epoch 060/100 | Loss 0.0586 | Win/lose count 4.0/2.0 (2.0)\n",
            "Epoch 061/100 | Loss 0.0499 | Win/lose count 14.0/1.0 (13.0)\n",
            "Epoch 062/100 | Loss 0.0026 | Win/lose count 6.0/1.0 (5.0)\n",
            "Epoch 063/100 | Loss 0.0029 | Win/lose count 5.0/2.0 (3.0)\n",
            "Epoch 064/100 | Loss 0.0022 | Win/lose count 13.5/7.0 (6.5)\n",
            "Epoch 065/100 | Loss 0.0032 | Win/lose count 4.0/2.0 (2.0)\n",
            "Epoch 066/100 | Loss 0.0016 | Win/lose count 11.5/1.0 (10.5)\n",
            "Epoch 067/100 | Loss 0.0045 | Win/lose count 4.5/0 (4.5)\n",
            "Epoch 068/100 | Loss 0.0068 | Win/lose count 16.5/3.0 (13.5)\n",
            "Epoch 069/100 | Loss 0.0037 | Win/lose count 4.0/6.0 (-2.0)\n",
            "Epoch 070/100 | Loss 0.0028 | Win/lose count 5.0/4.0 (1.0)\n",
            "Epoch 071/100 | Loss 0.0365 | Win/lose count 7.5/3.0 (4.5)\n",
            "Epoch 072/100 | Loss 0.0023 | Win/lose count 3.5/1.0 (2.5)\n",
            "Epoch 073/100 | Loss 0.0048 | Win/lose count 12.0/2.0 (10.0)\n",
            "Epoch 074/100 | Loss 0.0083 | Win/lose count 10.0/4.0 (6.0)\n",
            "Epoch 075/100 | Loss 0.0024 | Win/lose count 21.0/2.0 (19.0)\n",
            "Epoch 076/100 | Loss 0.0017 | Win/lose count 6.0/3.0 (3.0)\n",
            "Epoch 077/100 | Loss 0.0043 | Win/lose count 16.0/2.0 (14.0)\n",
            "Epoch 078/100 | Loss 0.0027 | Win/lose count 9.0/7.0 (2.0)\n",
            "Epoch 079/100 | Loss 0.0567 | Win/lose count 9.0/1.0 (8.0)\n",
            "Epoch 080/100 | Loss 0.0073 | Win/lose count 5.0/1.0 (4.0)\n",
            "Epoch 081/100 | Loss 0.0046 | Win/lose count 2.0/1.0 (1.0)\n",
            "Epoch 082/100 | Loss 0.0027 | Win/lose count 14.5/2.0 (12.5)\n",
            "Epoch 083/100 | Loss 0.0019 | Win/lose count 19.5/1.0 (18.5)\n",
            "Epoch 084/100 | Loss 0.0032 | Win/lose count 9.5/2.0 (7.5)\n",
            "Epoch 085/100 | Loss 0.0069 | Win/lose count 9.5/2.0 (7.5)\n",
            "Epoch 086/100 | Loss 0.0484 | Win/lose count 15.0/1.0 (14.0)\n",
            "Epoch 087/100 | Loss 0.0579 | Win/lose count 13.0/0 (13.0)\n",
            "Epoch 088/100 | Loss 0.0017 | Win/lose count 10.5/4.0 (6.5)\n",
            "Epoch 089/100 | Loss 0.0035 | Win/lose count 9.0/0 (9.0)\n",
            "Epoch 090/100 | Loss 0.0048 | Win/lose count 24.0/2.0 (22.0)\n",
            "Epoch 091/100 | Loss 0.0030 | Win/lose count 13.5/6.0 (7.5)\n",
            "Epoch 092/100 | Loss 0.0025 | Win/lose count 9.5/2.0 (7.5)\n",
            "Epoch 093/100 | Loss 0.0046 | Win/lose count 7.0/3.0 (4.0)\n",
            "Epoch 094/100 | Loss 0.0044 | Win/lose count 14.0/0 (14.0)\n",
            "Epoch 095/100 | Loss 0.0028 | Win/lose count 9.0/3.0 (6.0)\n",
            "Epoch 096/100 | Loss 0.0106 | Win/lose count 6.0/1.0 (5.0)\n",
            "Epoch 097/100 | Loss 0.0033 | Win/lose count 6.0/2.0 (4.0)\n",
            "Epoch 098/100 | Loss 0.0033 | Win/lose count 18.5/4.0 (14.5)\n",
            "Epoch 099/100 | Loss 0.0040 | Win/lose count 12.0/1.0 (11.0)\n"
          ],
          "name": "stdout"
        },
        {
          "output_type": "execute_result",
          "data": {
            "text/html": [
              "<video alt=\"test\" controls>\n",
              "                <source src=\"data:video/mp4;base64,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\" type=\"video/mp4\" />\n",
              "             </video>"
            ],
            "text/plain": [
              "<IPython.core.display.HTML object>"
            ]
          },
          "metadata": {
            "tags": []
          },
          "execution_count": 14
        }
      ]
    },
    {
      "metadata": {
        "id": "jPItSJHKQZt9",
        "colab_type": "text"
      },
      "cell_type": "markdown",
      "source": [
        "***\n",
        "***\n",
        "__Question 8__ Implement the DQN training algorithm using a CNN (for example, 2 convolutional layers and one final fully connected layer)."
      ]
    },
    {
      "metadata": {
        "id": "7StUhBxKQZt-",
        "colab_type": "code",
        "colab": {}
      },
      "cell_type": "code",
      "source": [
        "class DQN_CNN(DQN):\n",
        "    def __init__(self, *args,lr=0.1,**kwargs):\n",
        "        super(DQN_CNN, self).__init__(*args,**kwargs)\n",
        "        \n",
        "        model = Sequential()\n",
        "        model.add(Conv2D(50,(2,2),input_shape=(5,5,self.n_state,)))\n",
        "        model.add(Activation('relu'))\n",
        "        model.add(Conv2D(30,(2,2),activation='relu'))\n",
        "        model.add(Activation('relu'))\n",
        "        model.add(Flatten())\n",
        "        model.add(Dense(4))\n",
        "        \n",
        "        model.compile(sgd(lr=lr, decay=1e-4, momentum=0.0), \"mse\")\n",
        "        self.model = model"
      ],
      "execution_count": 0,
      "outputs": []
    },
    {
      "metadata": {
        "id": "ywO25qvoQZuB",
        "colab_type": "code",
        "outputId": "207df663-ebcb-44b3-f692-cc40ae1ac0b1",
        "colab": {
          "base_uri": "https://localhost:8080/",
          "height": 2070
        }
      },
      "cell_type": "code",
      "source": [
        "env = Environment(grid_size=size, max_time=T, temperature=0.3)\n",
        "agent = DQN_CNN(size, lr=.1, epsilon = 0.1, memory_size=2000, batch_size = 32)\n",
        "train(agent,env,epochs_train,prefix='cnn_train')\n",
        "HTML(display_videos('cnn_train10.mp4'))"
      ],
      "execution_count": 16,
      "outputs": [
        {
          "output_type": "stream",
          "text": [
            "Epoch 000/100 | Loss 0.0035 | Win/lose count 4.0/4.0 (0.0)\n",
            "Epoch 001/100 | Loss 0.0126 | Win/lose count 3.5/7.0 (-3.5)\n",
            "Epoch 002/100 | Loss 0.0071 | Win/lose count 1.5/1.0 (0.5)\n",
            "Epoch 003/100 | Loss 0.0020 | Win/lose count 2.5/3.0 (-0.5)\n",
            "Epoch 004/100 | Loss 0.0007 | Win/lose count 6.0/2.0 (4.0)\n",
            "Epoch 005/100 | Loss 0.0015 | Win/lose count 3.0/0 (3.0)\n",
            "Epoch 006/100 | Loss 0.0142 | Win/lose count 5.0/4.0 (1.0)\n",
            "Epoch 007/100 | Loss 0.0020 | Win/lose count 2.5/4.0 (-1.5)\n",
            "Epoch 008/100 | Loss 0.0076 | Win/lose count 2.5/2.0 (0.5)\n",
            "Epoch 009/100 | Loss 0.0063 | Win/lose count 4.0/5.0 (-1.0)\n",
            "Epoch 010/100 | Loss 0.0018 | Win/lose count 4.0/2.0 (2.0)\n",
            "Epoch 011/100 | Loss 0.0031 | Win/lose count 5.5/4.0 (1.5)\n",
            "Epoch 012/100 | Loss 0.0041 | Win/lose count 3.0/1.0 (2.0)\n",
            "Epoch 013/100 | Loss 0.0039 | Win/lose count 4.5/6.0 (-1.5)\n",
            "Epoch 014/100 | Loss 0.0035 | Win/lose count 7.0/1.0 (6.0)\n",
            "Epoch 015/100 | Loss 0.0032 | Win/lose count 10.0/6.0 (4.0)\n",
            "Epoch 016/100 | Loss 0.0091 | Win/lose count 5.0/3.0 (2.0)\n",
            "Epoch 017/100 | Loss 0.0023 | Win/lose count 5.5/2.0 (3.5)\n",
            "Epoch 018/100 | Loss 0.0585 | Win/lose count 7.5/0 (7.5)\n",
            "Epoch 019/100 | Loss 0.0024 | Win/lose count 7.5/2.0 (5.5)\n",
            "Epoch 020/100 | Loss 0.0014 | Win/lose count 12.5/3.0 (9.5)\n",
            "Epoch 021/100 | Loss 0.0011 | Win/lose count 13.5/3.0 (10.5)\n",
            "Epoch 022/100 | Loss 0.0022 | Win/lose count 11.0/3.0 (8.0)\n",
            "Epoch 023/100 | Loss 0.0055 | Win/lose count 11.5/2.0 (9.5)\n",
            "Epoch 024/100 | Loss 0.0016 | Win/lose count 7.0/0 (7.0)\n",
            "Epoch 025/100 | Loss 0.0016 | Win/lose count 5.0/1.0 (4.0)\n",
            "Epoch 026/100 | Loss 0.0022 | Win/lose count 9.0/1.0 (8.0)\n",
            "Epoch 027/100 | Loss 0.0010 | Win/lose count 14.5/2.0 (12.5)\n",
            "Epoch 028/100 | Loss 0.0025 | Win/lose count 15.5/5.0 (10.5)\n",
            "Epoch 029/100 | Loss 0.0038 | Win/lose count 10.0/0 (10.0)\n",
            "Epoch 030/100 | Loss 0.0556 | Win/lose count 8.5/2.0 (6.5)\n",
            "Epoch 031/100 | Loss 0.0010 | Win/lose count 7.0/3.0 (4.0)\n",
            "Epoch 032/100 | Loss 0.0012 | Win/lose count 14.5/1.0 (13.5)\n",
            "Epoch 033/100 | Loss 0.0517 | Win/lose count 12.5/4.0 (8.5)\n",
            "Epoch 034/100 | Loss 0.0029 | Win/lose count 18.0/3.0 (15.0)\n",
            "Epoch 035/100 | Loss 0.0026 | Win/lose count 11.0/2.0 (9.0)\n",
            "Epoch 036/100 | Loss 0.0029 | Win/lose count 23.0/2.0 (21.0)\n",
            "Epoch 037/100 | Loss 0.0041 | Win/lose count 16.5/0 (16.5)\n",
            "Epoch 038/100 | Loss 0.0081 | Win/lose count 5.0/3.0 (2.0)\n",
            "Epoch 039/100 | Loss 0.0524 | Win/lose count 12.0/5.0 (7.0)\n",
            "Epoch 040/100 | Loss 0.0018 | Win/lose count 8.5/1.0 (7.5)\n",
            "Epoch 041/100 | Loss 0.0496 | Win/lose count 16.5/4.0 (12.5)\n",
            "Epoch 042/100 | Loss 0.0056 | Win/lose count 14.0/1.0 (13.0)\n",
            "Epoch 043/100 | Loss 0.0029 | Win/lose count 15.0/0 (15.0)\n",
            "Epoch 044/100 | Loss 0.0510 | Win/lose count 14.0/2.0 (12.0)\n",
            "Epoch 045/100 | Loss 0.0029 | Win/lose count 17.0/3.0 (14.0)\n",
            "Epoch 046/100 | Loss 0.0017 | Win/lose count 17.0/3.0 (14.0)\n",
            "Epoch 047/100 | Loss 0.0019 | Win/lose count 10.0/2.0 (8.0)\n",
            "Epoch 048/100 | Loss 0.0534 | Win/lose count 2.5/2.0 (0.5)\n",
            "Epoch 049/100 | Loss 0.0010 | Win/lose count 15.0/2.0 (13.0)\n",
            "Epoch 050/100 | Loss 0.0021 | Win/lose count 14.0/3.0 (11.0)\n",
            "Epoch 051/100 | Loss 0.0022 | Win/lose count 11.0/1.0 (10.0)\n",
            "Epoch 052/100 | Loss 0.0016 | Win/lose count 10.0/4.0 (6.0)\n",
            "Epoch 053/100 | Loss 0.0024 | Win/lose count 10.0/4.0 (6.0)\n",
            "Epoch 054/100 | Loss 0.1019 | Win/lose count 1.0/5.0 (-4.0)\n",
            "Epoch 055/100 | Loss 0.0026 | Win/lose count 20.5/5.0 (15.5)\n",
            "Epoch 056/100 | Loss 0.0967 | Win/lose count 14.5/3.0 (11.5)\n",
            "Epoch 057/100 | Loss 0.0030 | Win/lose count 11.0/3.0 (8.0)\n",
            "Epoch 058/100 | Loss 0.0104 | Win/lose count 11.0/2.0 (9.0)\n",
            "Epoch 059/100 | Loss 0.0018 | Win/lose count 7.0/3.0 (4.0)\n",
            "Epoch 060/100 | Loss 0.0026 | Win/lose count 12.5/7.0 (5.5)\n",
            "Epoch 061/100 | Loss 0.0048 | Win/lose count 14.0/2.0 (12.0)\n",
            "Epoch 062/100 | Loss 0.0020 | Win/lose count 13.5/6.0 (7.5)\n",
            "Epoch 063/100 | Loss 0.0059 | Win/lose count 17.0/3.0 (14.0)\n",
            "Epoch 064/100 | Loss 0.0550 | Win/lose count 5.0/3.0 (2.0)\n",
            "Epoch 065/100 | Loss 0.0027 | Win/lose count 17.0/0 (17.0)\n",
            "Epoch 066/100 | Loss 0.0027 | Win/lose count 14.5/3.0 (11.5)\n",
            "Epoch 067/100 | Loss 0.0503 | Win/lose count 15.5/2.0 (13.5)\n",
            "Epoch 068/100 | Loss 0.0015 | Win/lose count 10.5/6.0 (4.5)\n",
            "Epoch 069/100 | Loss 0.0058 | Win/lose count 20.5/3.0 (17.5)\n",
            "Epoch 070/100 | Loss 0.0029 | Win/lose count 9.5/0 (9.5)\n",
            "Epoch 071/100 | Loss 0.0029 | Win/lose count 16.5/3.0 (13.5)\n",
            "Epoch 072/100 | Loss 0.0651 | Win/lose count 22.5/5.0 (17.5)\n",
            "Epoch 073/100 | Loss 0.0527 | Win/lose count 25.0/3.0 (22.0)\n",
            "Epoch 074/100 | Loss 0.0050 | Win/lose count 15.0/4.0 (11.0)\n",
            "Epoch 075/100 | Loss 0.0018 | Win/lose count 23.0/3.0 (20.0)\n",
            "Epoch 076/100 | Loss 0.0023 | Win/lose count 19.0/1.0 (18.0)\n",
            "Epoch 077/100 | Loss 0.0625 | Win/lose count 19.5/1.0 (18.5)\n",
            "Epoch 078/100 | Loss 0.0030 | Win/lose count 18.5/3.0 (15.5)\n",
            "Epoch 079/100 | Loss 0.0020 | Win/lose count 3.0/2.0 (1.0)\n",
            "Epoch 080/100 | Loss 0.0016 | Win/lose count 25.5/4.0 (21.5)\n",
            "Epoch 081/100 | Loss 0.0021 | Win/lose count 19.0/3.0 (16.0)\n",
            "Epoch 082/100 | Loss 0.0022 | Win/lose count 15.5/2.0 (13.5)\n",
            "Epoch 083/100 | Loss 0.0042 | Win/lose count 12.5/1.0 (11.5)\n",
            "Epoch 084/100 | Loss 0.0032 | Win/lose count 25.0/4.0 (21.0)\n",
            "Epoch 085/100 | Loss 0.0107 | Win/lose count 25.0/2.0 (23.0)\n",
            "Epoch 086/100 | Loss 0.0015 | Win/lose count 7.5/4.0 (3.5)\n",
            "Epoch 087/100 | Loss 0.0036 | Win/lose count 12.0/2.0 (10.0)\n",
            "Epoch 088/100 | Loss 0.0023 | Win/lose count 16.5/3.0 (13.5)\n",
            "Epoch 089/100 | Loss 0.0023 | Win/lose count 8.5/1.0 (7.5)\n",
            "Epoch 090/100 | Loss 0.0563 | Win/lose count 9.0/4.0 (5.0)\n",
            "Epoch 091/100 | Loss 0.0016 | Win/lose count 18.0/2.0 (16.0)\n",
            "Epoch 092/100 | Loss 0.0111 | Win/lose count 21.5/2.0 (19.5)\n",
            "Epoch 093/100 | Loss 0.0027 | Win/lose count 15.0/3.0 (12.0)\n",
            "Epoch 094/100 | Loss 0.0015 | Win/lose count 16.0/3.0 (13.0)\n",
            "Epoch 095/100 | Loss 0.0031 | Win/lose count 15.5/3.0 (12.5)\n",
            "Epoch 096/100 | Loss 0.0021 | Win/lose count 22.5/4.0 (18.5)\n",
            "Epoch 097/100 | Loss 0.0025 | Win/lose count 16.5/1.0 (15.5)\n",
            "Epoch 098/100 | Loss 0.0027 | Win/lose count 15.0/1.0 (14.0)\n",
            "Epoch 099/100 | Loss 0.0478 | Win/lose count 18.5/2.0 (16.5)\n"
          ],
          "name": "stdout"
        },
        {
          "output_type": "execute_result",
          "data": {
            "text/html": [
              "<video alt=\"test\" controls>\n",
              "                <source src=\"data:video/mp4;base64,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\" type=\"video/mp4\" />\n",
              "             </video>"
            ],
            "text/plain": [
              "<IPython.core.display.HTML object>"
            ]
          },
          "metadata": {
            "tags": []
          },
          "execution_count": 16
        }
      ]
    },
    {
      "metadata": {
        "id": "k2IzlGNHQZuE",
        "colab_type": "text"
      },
      "cell_type": "markdown",
      "source": [
        "***\n",
        "***\n",
        "__Question 9__ Test both algorithms and compare their performances. Which issue(s) do you observe? Observe also different behaviors by changing the temperature."
      ]
    },
    {
      "metadata": {
        "id": "D_Vt_pKfQZuG",
        "colab_type": "code",
        "outputId": "ed844bb4-15a5-4c6a-d7b2-869e0351f4aa",
        "colab": {
          "base_uri": "https://localhost:8080/",
          "height": 799
        }
      },
      "cell_type": "code",
      "source": [
        "env = Environment(grid_size=size, max_time=T,temperature=0.3)\n",
        "agent_cnn = DQN_CNN(size, lr=.1, epsilon = 0.1, memory_size=2000, batch_size = 32)\n",
        "agent_cnn.load(name_weights='cnn_trainmodel.h5',name_model='cnn_trainmodel.json')\n",
        "\n",
        "agent_fc = DQN_FC(size, lr=.1, epsilon = 0.1, memory_size=2000, batch_size = 32)\n",
        "agent_cnn.load(name_weights='fc_trainmodel.h5',name_model='fc_trainmodel.json')\n",
        "print('Test of the CNN')\n",
        "test(agent_cnn,env,epochs_test,prefix='cnn_test')\n",
        "print('Test of the FC')\n",
        "test(agent_fc,env,epochs_test,prefix='fc_test')"
      ],
      "execution_count": 17,
      "outputs": [
        {
          "output_type": "stream",
          "text": [
            "Test of the CNN\n",
            "Win/lose count 1.5/0.0. Average score (1.5)\n",
            "Win/lose count 7.0/0.0. Average score (4.25)\n",
            "Win/lose count 19.0/0.0. Average score (9.166666666666666)\n",
            "Win/lose count 3.0/0.0. Average score (7.625)\n",
            "Win/lose count 3.0/0.0. Average score (6.7)\n",
            "Win/lose count 3.0/0.0. Average score (6.083333333333333)\n",
            "Win/lose count 1.0/0.0. Average score (5.357142857142857)\n",
            "Win/lose count 1.5/0.0. Average score (4.875)\n",
            "Win/lose count 2.5/0.0. Average score (4.611111111111111)\n",
            "Win/lose count 6.5/0.0. Average score (4.8)\n",
            "Win/lose count 12.0/1.0. Average score (5.363636363636363)\n",
            "Win/lose count 0.5/0.0. Average score (4.958333333333333)\n",
            "Win/lose count 6.0/0.0. Average score (5.038461538461538)\n",
            "Win/lose count 3.0/0.0. Average score (4.892857142857143)\n",
            "Win/lose count 8.5/0.0. Average score (5.133333333333334)\n",
            "Win/lose count 2.5/0.0. Average score (4.96875)\n",
            "Win/lose count 18.5/0.0. Average score (5.764705882352941)\n",
            "Win/lose count 9.0/0.0. Average score (5.944444444444445)\n",
            "Win/lose count 1.5/0.0. Average score (5.7105263157894735)\n",
            "Win/lose count 6.0/0.0. Average score (5.725)\n",
            "Final score: 5.725\n",
            "Test of the FC\n",
            "Win/lose count 0/1.0. Average score (-1.0)\n",
            "Win/lose count 0.5/0.0. Average score (-0.25)\n",
            "Win/lose count 0/0.0. Average score (-0.16666666666666666)\n",
            "Win/lose count 0/1.0. Average score (-0.375)\n",
            "Win/lose count 0.5/0.0. Average score (-0.2)\n",
            "Win/lose count 0.5/0.0. Average score (-0.08333333333333333)\n",
            "Win/lose count 1.0/0.0. Average score (0.07142857142857142)\n",
            "Win/lose count 0/0.0. Average score (0.0625)\n",
            "Win/lose count 0/0.0. Average score (0.05555555555555555)\n",
            "Win/lose count 0.5/0.0. Average score (0.1)\n",
            "Win/lose count 1.5/0.0. Average score (0.22727272727272727)\n",
            "Win/lose count 0.5/1.0. Average score (0.16666666666666666)\n",
            "Win/lose count 0/0.0. Average score (0.15384615384615385)\n",
            "Win/lose count 0/1.0. Average score (0.07142857142857142)\n",
            "Win/lose count 0.5/0.0. Average score (0.1)\n",
            "Win/lose count 0.5/1.0. Average score (0.0625)\n",
            "Win/lose count 1.0/1.0. Average score (0.058823529411764705)\n",
            "Win/lose count 1.0/0.0. Average score (0.1111111111111111)\n",
            "Win/lose count 0/0.0. Average score (0.10526315789473684)\n",
            "Win/lose count 1.0/1.0. Average score (0.1)\n",
            "Final score: 0.1\n"
          ],
          "name": "stdout"
        }
      ]
    },
    {
      "metadata": {
        "id": "Y7eG6qEzQZuI",
        "colab_type": "code",
        "outputId": "5824dc61-50f1-4e73-84a1-abe7b6a4a722",
        "colab": {
          "base_uri": "https://localhost:8080/",
          "height": 292
        }
      },
      "cell_type": "code",
      "source": [
        "HTML(display_videos('cnn_test10.mp4'))"
      ],
      "execution_count": 18,
      "outputs": [
        {
          "output_type": "execute_result",
          "data": {
            "text/html": [
              "<video alt=\"test\" controls>\n",
              "                <source src=\"data:video/mp4;base64,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\" type=\"video/mp4\" />\n",
              "             </video>"
            ],
            "text/plain": [
              "<IPython.core.display.HTML object>"
            ]
          },
          "metadata": {
            "tags": []
          },
          "execution_count": 18
        }
      ]
    },
    {
      "metadata": {
        "id": "zVJ28xCkQZuM",
        "colab_type": "code",
        "outputId": "db47ad02-c025-4fc4-96e1-ebe84690333b",
        "colab": {
          "base_uri": "https://localhost:8080/",
          "height": 292
        }
      },
      "cell_type": "code",
      "source": [
        "HTML(display_videos('fc_test10.mp4'))"
      ],
      "execution_count": 19,
      "outputs": [
        {
          "output_type": "execute_result",
          "data": {
            "text/html": [
              "<video alt=\"test\" controls>\n",
              "                <source src=\"data:video/mp4;base64,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\" type=\"video/mp4\" />\n",
              "             </video>"
            ],
            "text/plain": [
              "<IPython.core.display.HTML object>"
            ]
          },
          "metadata": {
            "tags": []
          },
          "execution_count": 19
        }
      ]
    },
    {
      "metadata": {
        "id": "-sK4RLmYQZuP",
        "colab_type": "text"
      },
      "cell_type": "markdown",
      "source": [
        "***\n",
        "\n",
        "The algorithm tends to not explore the map which can be an issue. We propose two ideas in order to encourage exploration:\n",
        "1. Incorporating a decreasing $\\epsilon$-greedy exploration. You can use the method ```set_epsilon```\n",
        "2. Append via the environment a new state that describes if a cell has been visited or not\n",
        "\n",
        "***\n",
        "__Question 10__ Design a new ```train_explore``` function and environment class ```EnvironmentExploring``` to tackle the issue of exploration.\n",
        "\n"
      ]
    },
    {
      "metadata": {
        "id": "2rs2tXMvnW9m",
        "colab_type": "code",
        "colab": {}
      },
      "cell_type": "code",
      "source": [
        "def train_explore(agent,env,epoch,decay_param=0.4,prefix=''):\n",
        "\n",
        "    score = 0\n",
        "    loss = 0\n",
        "\n",
        "    for e in range(epoch):\n",
        "        state = env.reset()\n",
        "        game_over = False\n",
        "\n",
        "        win = 0\n",
        "        lose = 0\n",
        "        \n",
        "        agent.set_epsilon(agent.epsilon*np.exp(-decay_param)) #To tackle the issue of exploration\n",
        "        \n",
        "        while not game_over:\n",
        "            action = agent.act(state)\n",
        "\n",
        "\n",
        "            prev_state = state\n",
        "            state, reward, game_over = env.act(action, train=True)\n",
        "\n",
        "            if reward > 0:\n",
        "                win = win+ reward\n",
        "            if reward < 0:\n",
        "                lose = lose -reward\n",
        "\n",
        "            loss = agent.reinforce(prev_state, state,  action, reward, game_over) #Applying reinforce algorithm\n",
        "\n",
        "        # Save as a mp4\n",
        "        if e % 10 == 0:\n",
        "            env.draw(prefix+str(e))\n",
        "\n",
        "        # Update stats\n",
        "        score += win-lose\n",
        "\n",
        "        print(\"Epoch {:03d}/{:03d} | Loss {:.4f} | Win/lose count {}/{} ({})\"\n",
        "              .format(e, epoch, loss, win, lose, win-lose))\n",
        "        agent.save(name_weights=prefix+'model.h5',name_model=prefix+'model.json')\n",
        "        \n",
        "class EnvironmentExploring(object):\n",
        "    def __init__(self, grid_size=10, max_time=500, temperature=0.1):\n",
        "        grid_size = grid_size+4\n",
        "        self.grid_size = grid_size\n",
        "        self.max_time = max_time\n",
        "        self.temperature = temperature\n",
        "\n",
        "        self.board = np.zeros((grid_size,grid_size))\n",
        "        self.position = np.zeros((grid_size,grid_size))\n",
        "        self.malus_position = np.zeros((grid_size,grid_size)) \n",
        "\n",
        "        self.x = 0\n",
        "        self.y = 1\n",
        "\n",
        "        self.t = 0\n",
        "\n",
        "        self.scale=16\n",
        "\n",
        "        self.to_draw = np.zeros((max_time+2, grid_size*self.scale, grid_size*self.scale, 3))\n",
        "\n",
        "\n",
        "    def draw(self,e):\n",
        "        skvideo.io.vwrite(str(e) + '.mp4', self.to_draw)\n",
        "\n",
        "    def get_frame(self,t):\n",
        "        b = np.zeros((self.grid_size,self.grid_size,3))+128\n",
        "        b[self.board>0,0] = 256\n",
        "        b[self.board < 0, 2] = 256\n",
        "        b[self.x,self.y,:]=256\n",
        "        b[-2:,:,:]=0\n",
        "        b[:,-2:,:]=0\n",
        "        b[:2,:,:]=0\n",
        "        b[:,:2,:]=0\n",
        "        \n",
        "        b =  cv2.resize(b, None, fx=self.scale, fy=self.scale, interpolation=cv2.INTER_NEAREST)\n",
        "\n",
        "        self.to_draw[t,:,:,:]=b\n",
        "\n",
        "\n",
        "    def act(self, action,train=False):\n",
        "\n",
        "        self.get_frame(int(self.t))\n",
        "\n",
        "        self.position = np.zeros((self.grid_size, self.grid_size))\n",
        "\n",
        "        self.position[0:2,:]= -1\n",
        "        self.position[:,0:2] = -1\n",
        "        self.position[-2:, :] = -1\n",
        "        self.position[:, -2:] = -1\n",
        "\n",
        "        self.position[self.x, self.y] = 1\n",
        "        if action == 0:\n",
        "            if self.x == self.grid_size-3:\n",
        "                self.x = self.x-1\n",
        "            else:\n",
        "                self.x = self.x + 1\n",
        "        elif action == 1:\n",
        "            if self.x == 2:\n",
        "                self.x = self.x+1\n",
        "            else:\n",
        "                self.x = self.x-1\n",
        "        elif action == 2:\n",
        "            if self.y == self.grid_size - 3:\n",
        "                self.y = self.y - 1\n",
        "            else:\n",
        "                self.y = self.y + 1\n",
        "        elif action == 3:\n",
        "            if self.y == 2:\n",
        "                self.y = self.y + 1\n",
        "            else:\n",
        "                self.y = self.y - 1\n",
        "        else:\n",
        "            RuntimeError('Error: action not recognized')\n",
        "\n",
        "        self.t = self.t + 1     \n",
        "        \n",
        "\n",
        "        reward = 0\n",
        "        if train:\n",
        "            reward = -self.malus_position[self.x, self.y]\n",
        "        self.malus_position[self.x, self.y] = 0.1\n",
        "\n",
        "        reward = reward + self.board[self.x, self.y]\n",
        "        self.board[self.x, self.y] = 0\n",
        "        game_over = self.t > self.max_time\n",
        "        state = np.concatenate((self.malus_position.reshape(self.grid_size, self.grid_size,1),\n",
        "                                        self.board.reshape(self.grid_size, self.grid_size,1),\n",
        "                                self.position.reshape(self.grid_size, self.grid_size,1)),axis=2)\n",
        "        state = state[self.x-2:self.x+3,self.y-2:self.y+3,:]\n",
        "\n",
        "        return state, reward, game_over\n",
        "\n",
        "    def reset(self):\n",
        "\n",
        "        self.x = np.random.randint(3, self.grid_size-3, size=1)[0]\n",
        "        self.y = np.random.randint(3, self.grid_size-3, size=1)[0]\n",
        "\n",
        "\n",
        "        bonus = 0.5*np.random.binomial(1,self.temperature,size=self.grid_size**2)\n",
        "        bonus = bonus.reshape(self.grid_size,self.grid_size)\n",
        "\n",
        "        malus = -1.0*np.random.binomial(1,self.temperature,size=self.grid_size**2)\n",
        "        malus = malus.reshape(self.grid_size, self.grid_size)\n",
        "\n",
        "        self.to_draw = np.zeros((self.max_time+2, self.grid_size*self.scale, self.grid_size*self.scale, 3))\n",
        "\n",
        "\n",
        "        malus[bonus>0]=0\n",
        "\n",
        "        self.board = bonus + malus\n",
        "\n",
        "        self.position = np.zeros((self.grid_size, self.grid_size))\n",
        "        self.position[0:2,:]= -1\n",
        "        self.position[:,0:2] = -1\n",
        "        self.position[-2:, :] = -1\n",
        "        self.position[-2:, :] = -1\n",
        "        self.board[self.x,self.y] = 0\n",
        "        self.t = 0\n",
        "\n",
        "\n",
        "        state = np.concatenate((self.malus_position.reshape(self.grid_size, self.grid_size,1),\n",
        "                                self.board.reshape(self.grid_size, self.grid_size,1),\n",
        "                        self.position.reshape(self.grid_size, self.grid_size,1)),axis=2)\n",
        "    \n",
        "        state = state[self.x - 2:self.x + 3, self.y - 2:self.y + 3, :]\n",
        "        return state"
      ],
      "execution_count": 0,
      "outputs": []
    },
    {
      "metadata": {
        "id": "9ab64cUPQZuU",
        "colab_type": "code",
        "outputId": "4e567b1d-a2b3-44c3-e637-4c28cf1f1bbf",
        "colab": {
          "base_uri": "https://localhost:8080/",
          "height": 2070
        }
      },
      "cell_type": "code",
      "source": [
        "# Training\n",
        "env = EnvironmentExploring(grid_size=size, max_time=T, temperature=0.3)\n",
        "agent = DQN_CNN(size, lr=.1, epsilon = 0.6, memory_size=2000, batch_size = 56,n_state=3)\n",
        "train_explore(agent, env, epochs_train, prefix='cnn_train_explore')\n",
        "HTML(display_videos('cnn_train_explore10.mp4'))"
      ],
      "execution_count": 21,
      "outputs": [
        {
          "output_type": "stream",
          "text": [
            "Epoch 000/100 | Loss 0.0028 | Win/lose count 4.0/22.40000000000006 (-18.40000000000006)\n",
            "Epoch 001/100 | Loss 0.0095 | Win/lose count 7.0/23.00000000000002 (-16.00000000000002)\n",
            "Epoch 002/100 | Loss 0.0071 | Win/lose count 4.5/19.000000000000004 (-14.500000000000004)\n",
            "Epoch 003/100 | Loss 0.0026 | Win/lose count 11.0/17.099999999999973 (-6.099999999999973)\n",
            "Epoch 004/100 | Loss 0.0155 | Win/lose count 8.5/16.399999999999963 (-7.899999999999963)\n",
            "Epoch 005/100 | Loss 0.0033 | Win/lose count 8.5/16.699999999999967 (-8.199999999999967)\n",
            "Epoch 006/100 | Loss 0.0119 | Win/lose count 10.5/16.69999999999997 (-6.199999999999971)\n",
            "Epoch 007/100 | Loss 0.0073 | Win/lose count 5.5/17.099999999999973 (-11.599999999999973)\n",
            "Epoch 008/100 | Loss 0.0057 | Win/lose count 11.0/16.499999999999964 (-5.4999999999999645)\n",
            "Epoch 009/100 | Loss 0.0107 | Win/lose count 6.5/18.699999999999985 (-12.199999999999985)\n",
            "Epoch 010/100 | Loss 0.0050 | Win/lose count 8.0/17.499999999999982 (-9.499999999999982)\n",
            "Epoch 011/100 | Loss 0.0042 | Win/lose count 10.0/16.699999999999967 (-6.699999999999967)\n",
            "Epoch 012/100 | Loss 0.0034 | Win/lose count 23.0/12.99999999999997 (10.00000000000003)\n",
            "Epoch 013/100 | Loss 0.0053 | Win/lose count 13.5/15.699999999999964 (-2.1999999999999638)\n",
            "Epoch 014/100 | Loss 0.0058 | Win/lose count 5.5/19.000000000000004 (-13.500000000000004)\n",
            "Epoch 015/100 | Loss 0.0077 | Win/lose count 12.0/16.499999999999964 (-4.4999999999999645)\n",
            "Epoch 016/100 | Loss 0.0047 | Win/lose count 12.5/15.69999999999996 (-3.19999999999996)\n",
            "Epoch 017/100 | Loss 0.0191 | Win/lose count 3.5/17.59999999999998 (-14.09999999999998)\n",
            "Epoch 018/100 | Loss 0.0062 | Win/lose count 16.0/14.399999999999965 (1.6000000000000352)\n",
            "Epoch 019/100 | Loss 0.0078 | Win/lose count 19.5/14.099999999999966 (5.400000000000034)\n",
            "Epoch 020/100 | Loss 0.0163 | Win/lose count 23.5/12.89999999999997 (10.60000000000003)\n",
            "Epoch 021/100 | Loss 0.0110 | Win/lose count 22.0/11.999999999999973 (10.000000000000027)\n",
            "Epoch 022/100 | Loss 0.0177 | Win/lose count 27.0/10.799999999999978 (16.200000000000024)\n",
            "Epoch 023/100 | Loss 0.0171 | Win/lose count 3.0/18.499999999999993 (-15.499999999999993)\n",
            "Epoch 024/100 | Loss 0.0283 | Win/lose count 13.0/16.499999999999968 (-3.499999999999968)\n",
            "Epoch 025/100 | Loss 0.0322 | Win/lose count 27.5/9.199999999999983 (18.30000000000002)\n",
            "Epoch 026/100 | Loss 0.0116 | Win/lose count 22.0/11.099999999999977 (10.900000000000023)\n",
            "Epoch 027/100 | Loss 0.0110 | Win/lose count 28.0/8.999999999999984 (19.000000000000014)\n",
            "Epoch 028/100 | Loss 0.0066 | Win/lose count 25.5/9.999999999999984 (15.500000000000016)\n",
            "Epoch 029/100 | Loss 0.0083 | Win/lose count 23.0/11.09999999999998 (11.90000000000002)\n",
            "Epoch 030/100 | Loss 0.0112 | Win/lose count 22.5/9.199999999999987 (13.300000000000013)\n",
            "Epoch 031/100 | Loss 0.0311 | Win/lose count 26.0/11.699999999999982 (14.300000000000018)\n",
            "Epoch 032/100 | Loss 0.0245 | Win/lose count 15.0/13.999999999999966 (1.0000000000000338)\n",
            "Epoch 033/100 | Loss 0.0346 | Win/lose count 22.5/9.199999999999983 (13.300000000000017)\n",
            "Epoch 034/100 | Loss 0.0043 | Win/lose count 26.0/11.099999999999977 (14.900000000000023)\n",
            "Epoch 035/100 | Loss 0.0056 | Win/lose count 21.5/10.19999999999998 (11.30000000000002)\n",
            "Epoch 036/100 | Loss 0.0104 | Win/lose count 21.0/13.699999999999978 (7.300000000000022)\n",
            "Epoch 037/100 | Loss 0.0135 | Win/lose count 24.5/10.19999999999998 (14.30000000000002)\n",
            "Epoch 038/100 | Loss 0.0060 | Win/lose count 23.5/9.89999999999998 (13.60000000000002)\n",
            "Epoch 039/100 | Loss 0.0136 | Win/lose count 20.0/9.799999999999985 (10.200000000000015)\n",
            "Epoch 040/100 | Loss 0.0178 | Win/lose count 27.5/11.59999999999998 (15.90000000000002)\n",
            "Epoch 041/100 | Loss 0.0085 | Win/lose count 26.5/9.399999999999983 (17.100000000000016)\n",
            "Epoch 042/100 | Loss 0.0101 | Win/lose count 24.5/12.099999999999977 (12.400000000000023)\n",
            "Epoch 043/100 | Loss 0.0274 | Win/lose count 25.5/11.099999999999984 (14.400000000000016)\n",
            "Epoch 044/100 | Loss 0.0182 | Win/lose count 26.5/14.299999999999976 (12.200000000000024)\n",
            "Epoch 045/100 | Loss 0.0170 | Win/lose count 27.5/11.19999999999998 (16.30000000000002)\n",
            "Epoch 046/100 | Loss 0.0253 | Win/lose count 27.5/11.09999999999998 (16.40000000000002)\n",
            "Epoch 047/100 | Loss 0.0234 | Win/lose count 24.5/13.199999999999973 (11.300000000000027)\n",
            "Epoch 048/100 | Loss 0.0170 | Win/lose count 21.0/11.999999999999977 (9.000000000000023)\n",
            "Epoch 049/100 | Loss 0.0167 | Win/lose count 28.5/14.09999999999998 (14.40000000000002)\n",
            "Epoch 050/100 | Loss 0.0186 | Win/lose count 16.5/12.399999999999979 (4.100000000000021)\n",
            "Epoch 051/100 | Loss 0.0135 | Win/lose count 21.5/13.699999999999967 (7.800000000000033)\n",
            "Epoch 052/100 | Loss 0.0183 | Win/lose count 23.0/10.89999999999998 (12.10000000000002)\n",
            "Epoch 053/100 | Loss 0.0184 | Win/lose count 21.5/14.199999999999976 (7.300000000000024)\n",
            "Epoch 054/100 | Loss 0.0190 | Win/lose count 25.0/16.39999999999998 (8.60000000000002)\n",
            "Epoch 055/100 | Loss 0.0136 | Win/lose count 23.0/12.799999999999976 (10.200000000000024)\n",
            "Epoch 056/100 | Loss 0.0292 | Win/lose count 21.0/12.69999999999997 (8.30000000000003)\n",
            "Epoch 057/100 | Loss 0.0216 | Win/lose count 16.5/17.399999999999988 (-0.8999999999999879)\n",
            "Epoch 058/100 | Loss 0.0250 | Win/lose count 26.5/13.499999999999975 (13.000000000000025)\n",
            "Epoch 059/100 | Loss 0.0193 | Win/lose count 18.0/13.199999999999969 (4.800000000000031)\n",
            "Epoch 060/100 | Loss 0.0179 | Win/lose count 27.5/12.199999999999973 (15.300000000000027)\n",
            "Epoch 061/100 | Loss 0.0222 | Win/lose count 25.0/15.49999999999998 (9.50000000000002)\n",
            "Epoch 062/100 | Loss 0.0231 | Win/lose count 18.0/18.400000000000002 (-0.40000000000000213)\n",
            "Epoch 063/100 | Loss 0.0324 | Win/lose count 21.0/16.499999999999964 (4.5000000000000355)\n",
            "Epoch 064/100 | Loss 0.0120 | Win/lose count 19.5/13.19999999999998 (6.30000000000002)\n",
            "Epoch 065/100 | Loss 0.0221 | Win/lose count 20.5/15.899999999999963 (4.600000000000037)\n",
            "Epoch 066/100 | Loss 0.0096 | Win/lose count 24.5/13.899999999999975 (10.600000000000025)\n",
            "Epoch 067/100 | Loss 0.0157 | Win/lose count 24.0/13.899999999999979 (10.100000000000021)\n",
            "Epoch 068/100 | Loss 0.0307 | Win/lose count 23.5/11.19999999999998 (12.30000000000002)\n",
            "Epoch 069/100 | Loss 0.0101 | Win/lose count 30.0/12.699999999999978 (17.300000000000022)\n",
            "Epoch 070/100 | Loss 0.0135 | Win/lose count 27.5/12.79999999999998 (14.70000000000002)\n",
            "Epoch 071/100 | Loss 0.0157 | Win/lose count 30.0/11.89999999999998 (18.10000000000002)\n",
            "Epoch 072/100 | Loss 0.0208 | Win/lose count 25.0/16.39999999999998 (8.60000000000002)\n",
            "Epoch 073/100 | Loss 0.0144 | Win/lose count 25.0/12.099999999999978 (12.900000000000022)\n",
            "Epoch 074/100 | Loss 0.0173 | Win/lose count 19.5/10.999999999999977 (8.500000000000023)\n",
            "Epoch 075/100 | Loss 0.0225 | Win/lose count 23.5/12.199999999999978 (11.300000000000022)\n",
            "Epoch 076/100 | Loss 0.0167 | Win/lose count 30.5/10.499999999999986 (20.000000000000014)\n",
            "Epoch 077/100 | Loss 0.0093 | Win/lose count 22.5/13.39999999999998 (9.10000000000002)\n",
            "Epoch 078/100 | Loss 0.0099 | Win/lose count 22.5/12.699999999999973 (9.800000000000027)\n",
            "Epoch 079/100 | Loss 0.0264 | Win/lose count 26.0/16.79999999999999 (9.20000000000001)\n",
            "Epoch 080/100 | Loss 0.0188 | Win/lose count 21.0/13.299999999999969 (7.700000000000031)\n",
            "Epoch 081/100 | Loss 0.0147 | Win/lose count 24.5/19.50000000000003 (4.999999999999972)\n",
            "Epoch 082/100 | Loss 0.0327 | Win/lose count 18.5/12.399999999999975 (6.1000000000000245)\n",
            "Epoch 083/100 | Loss 0.0175 | Win/lose count 26.5/12.699999999999978 (13.800000000000022)\n",
            "Epoch 084/100 | Loss 0.0148 | Win/lose count 27.5/13.09999999999998 (14.40000000000002)\n",
            "Epoch 085/100 | Loss 0.0142 | Win/lose count 26.5/14.799999999999972 (11.700000000000028)\n",
            "Epoch 086/100 | Loss 0.0307 | Win/lose count 25.5/10.999999999999979 (14.500000000000021)\n",
            "Epoch 087/100 | Loss 0.0220 | Win/lose count 18.5/13.999999999999966 (4.500000000000034)\n",
            "Epoch 088/100 | Loss 0.0345 | Win/lose count 29.0/9.999999999999984 (19.000000000000014)\n",
            "Epoch 089/100 | Loss 0.0298 | Win/lose count 26.0/13.899999999999975 (12.100000000000025)\n",
            "Epoch 090/100 | Loss 0.0188 | Win/lose count 21.0/9.499999999999984 (11.500000000000016)\n",
            "Epoch 091/100 | Loss 0.0190 | Win/lose count 22.5/11.799999999999978 (10.700000000000022)\n",
            "Epoch 092/100 | Loss 0.0177 | Win/lose count 20.5/15.999999999999979 (4.500000000000021)\n",
            "Epoch 093/100 | Loss 0.0169 | Win/lose count 21.5/10.499999999999982 (11.000000000000018)\n",
            "Epoch 094/100 | Loss 0.0172 | Win/lose count 23.5/10.499999999999979 (13.000000000000021)\n",
            "Epoch 095/100 | Loss 0.0125 | Win/lose count 22.5/7.19999999999999 (15.30000000000001)\n",
            "Epoch 096/100 | Loss 0.0194 | Win/lose count 22.0/11.09999999999998 (10.90000000000002)\n",
            "Epoch 097/100 | Loss 0.0279 | Win/lose count 28.0/11.099999999999984 (16.900000000000016)\n",
            "Epoch 098/100 | Loss 0.0168 | Win/lose count 18.0/15.79999999999997 (2.2000000000000295)\n",
            "Epoch 099/100 | Loss 0.0102 | Win/lose count 25.0/15.799999999999969 (9.200000000000031)\n"
          ],
          "name": "stdout"
        },
        {
          "output_type": "execute_result",
          "data": {
            "text/html": [
              "<video alt=\"test\" controls>\n",
              "                <source src=\"data:video/mp4;base64,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\" type=\"video/mp4\" />\n",
              "             </video>"
            ],
            "text/plain": [
              "<IPython.core.display.HTML object>"
            ]
          },
          "metadata": {
            "tags": []
          },
          "execution_count": 21
        }
      ]
    },
    {
      "metadata": {
        "id": "19CFffsnQZuX",
        "colab_type": "code",
        "outputId": "21f4da23-f388-462b-e8ff-15c859ba6a3d",
        "colab": {
          "base_uri": "https://localhost:8080/",
          "height": 666
        }
      },
      "cell_type": "code",
      "source": [
        "# Evaluation\n",
        "test(agent,env,epochs_test,prefix='cnn_test_explore')\n",
        "HTML(display_videos('cnn_test_explore10.mp4'))"
      ],
      "execution_count": 22,
      "outputs": [
        {
          "output_type": "stream",
          "text": [
            "Win/lose count 28.0/13.0. Average score (15.0)\n",
            "Win/lose count 24.0/5.0. Average score (17.0)\n",
            "Win/lose count 21.5/6.0. Average score (16.5)\n",
            "Win/lose count 18.5/7.0. Average score (15.25)\n",
            "Win/lose count 23.5/4.0. Average score (16.1)\n",
            "Win/lose count 20.0/5.0. Average score (15.916666666666666)\n",
            "Win/lose count 28.0/6.0. Average score (16.785714285714285)\n",
            "Win/lose count 21.5/6.0. Average score (16.625)\n",
            "Win/lose count 9.5/2.0. Average score (15.61111111111111)\n",
            "Win/lose count 19.0/3.0. Average score (15.65)\n",
            "Win/lose count 26.0/6.0. Average score (16.045454545454547)\n",
            "Win/lose count 23.5/5.0. Average score (16.25)\n",
            "Win/lose count 19.0/4.0. Average score (16.153846153846153)\n",
            "Win/lose count 20.5/6.0. Average score (16.035714285714285)\n",
            "Win/lose count 26.0/3.0. Average score (16.5)\n",
            "Win/lose count 24.5/3.0. Average score (16.8125)\n",
            "Win/lose count 24.5/8.0. Average score (16.794117647058822)\n",
            "Win/lose count 12.5/2.0. Average score (16.444444444444443)\n",
            "Win/lose count 23.5/2.0. Average score (16.710526315789473)\n",
            "Win/lose count 28.5/6.0. Average score (17.0)\n",
            "Final score: 17.0\n"
          ],
          "name": "stdout"
        },
        {
          "output_type": "execute_result",
          "data": {
            "text/html": [
              "<video alt=\"test\" controls>\n",
              "                <source src=\"data:video/mp4;base64,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\" type=\"video/mp4\" />\n",
              "             </video>"
            ],
            "text/plain": [
              "<IPython.core.display.HTML object>"
            ]
          },
          "metadata": {
            "tags": []
          },
          "execution_count": 22
        }
      ]
    },
    {
      "metadata": {
        "id": "iocK32VPQZuZ",
        "colab_type": "text"
      },
      "cell_type": "markdown",
      "source": [
        "***\n",
        "***\n",
        "__BONUS question__ Use the expert DQN from the previous question to generate some winning games. Train a model that mimicks its behavior. Compare the performances."
      ]
    },
    {
      "metadata": {
        "id": "nqa1b1gQQZua",
        "colab_type": "text"
      },
      "cell_type": "markdown",
      "source": [
        ""
      ]
    },
    {
      "metadata": {
        "id": "zZDKte3HQZub",
        "colab_type": "text"
      },
      "cell_type": "markdown",
      "source": [
        "***"
      ]
    }
  ]
}